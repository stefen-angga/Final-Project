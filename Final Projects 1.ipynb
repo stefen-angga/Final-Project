{
 "cells": [
  {
   "cell_type": "code",
   "execution_count": 33,
   "metadata": {},
   "outputs": [],
   "source": [
    "import pandas as pd\n",
    "import numpy as np\n",
    "import seaborn as sns\n",
    "import matplotlib.pyplot as plt\n",
    "import time\n",
    "import warnings\n",
    "warnings.filterwarnings(\"ignore\")\n",
    "\n",
    "from sklearn.model_selection import train_test_split, StratifiedKFold, cross_val_score, GridSearchCV\n",
    "from sklearn.preprocessing import OneHotEncoder, StandardScaler,RobustScaler,MinMaxScaler,PolynomialFeatures\n",
    "import category_encoders as ce\n",
    "from sklearn.pipeline import Pipeline\n",
    "from sklearn.compose import ColumnTransformer\n",
    "\n",
    "from sklearn.tree import DecisionTreeClassifier\n",
    "from sklearn.neighbors import KNeighborsClassifier\n",
    "from sklearn.linear_model import LogisticRegression\n",
    "from sklearn.ensemble import RandomForestClassifier\n",
    "\n",
    "from imblearn.under_sampling import RandomUnderSampler,NearMiss\n",
    "from imblearn.over_sampling import RandomOverSampler,SMOTE\n",
    "from imblearn.pipeline import Pipeline\n",
    "\n",
    "from sklearn.metrics import accuracy_score, f1_score, recall_score, precision_score, classification_report, precision_recall_curve, plot_precision_recall_curve, confusion_matrix"
   ]
  },
  {
   "cell_type": "code",
   "execution_count": 2,
   "metadata": {
    "scrolled": true
   },
   "outputs": [
    {
     "data": {
      "text/html": [
       "<div>\n",
       "<style scoped>\n",
       "    .dataframe tbody tr th:only-of-type {\n",
       "        vertical-align: middle;\n",
       "    }\n",
       "\n",
       "    .dataframe tbody tr th {\n",
       "        vertical-align: top;\n",
       "    }\n",
       "\n",
       "    .dataframe thead th {\n",
       "        text-align: right;\n",
       "    }\n",
       "</style>\n",
       "<table border=\"1\" class=\"dataframe\">\n",
       "  <thead>\n",
       "    <tr style=\"text-align: right;\">\n",
       "      <th></th>\n",
       "      <th>age</th>\n",
       "      <th>job</th>\n",
       "      <th>marital</th>\n",
       "      <th>education</th>\n",
       "      <th>default</th>\n",
       "      <th>housing</th>\n",
       "      <th>loan</th>\n",
       "      <th>contact</th>\n",
       "      <th>month</th>\n",
       "      <th>day_of_week</th>\n",
       "      <th>...</th>\n",
       "      <th>campaign</th>\n",
       "      <th>pdays</th>\n",
       "      <th>previous</th>\n",
       "      <th>poutcome</th>\n",
       "      <th>emp.var.rate</th>\n",
       "      <th>cons.price.idx</th>\n",
       "      <th>cons.conf.idx</th>\n",
       "      <th>euribor3m</th>\n",
       "      <th>nr.employed</th>\n",
       "      <th>y</th>\n",
       "    </tr>\n",
       "  </thead>\n",
       "  <tbody>\n",
       "    <tr>\n",
       "      <th>0</th>\n",
       "      <td>56</td>\n",
       "      <td>housemaid</td>\n",
       "      <td>married</td>\n",
       "      <td>basic.4y</td>\n",
       "      <td>no</td>\n",
       "      <td>no</td>\n",
       "      <td>no</td>\n",
       "      <td>telephone</td>\n",
       "      <td>may</td>\n",
       "      <td>mon</td>\n",
       "      <td>...</td>\n",
       "      <td>1</td>\n",
       "      <td>999</td>\n",
       "      <td>0</td>\n",
       "      <td>nonexistent</td>\n",
       "      <td>1.1</td>\n",
       "      <td>93.994</td>\n",
       "      <td>-36.4</td>\n",
       "      <td>4.857</td>\n",
       "      <td>5191.0</td>\n",
       "      <td>no</td>\n",
       "    </tr>\n",
       "    <tr>\n",
       "      <th>1</th>\n",
       "      <td>57</td>\n",
       "      <td>services</td>\n",
       "      <td>married</td>\n",
       "      <td>high.school</td>\n",
       "      <td>unknown</td>\n",
       "      <td>no</td>\n",
       "      <td>no</td>\n",
       "      <td>telephone</td>\n",
       "      <td>may</td>\n",
       "      <td>mon</td>\n",
       "      <td>...</td>\n",
       "      <td>1</td>\n",
       "      <td>999</td>\n",
       "      <td>0</td>\n",
       "      <td>nonexistent</td>\n",
       "      <td>1.1</td>\n",
       "      <td>93.994</td>\n",
       "      <td>-36.4</td>\n",
       "      <td>4.857</td>\n",
       "      <td>5191.0</td>\n",
       "      <td>no</td>\n",
       "    </tr>\n",
       "    <tr>\n",
       "      <th>2</th>\n",
       "      <td>37</td>\n",
       "      <td>services</td>\n",
       "      <td>married</td>\n",
       "      <td>high.school</td>\n",
       "      <td>no</td>\n",
       "      <td>yes</td>\n",
       "      <td>no</td>\n",
       "      <td>telephone</td>\n",
       "      <td>may</td>\n",
       "      <td>mon</td>\n",
       "      <td>...</td>\n",
       "      <td>1</td>\n",
       "      <td>999</td>\n",
       "      <td>0</td>\n",
       "      <td>nonexistent</td>\n",
       "      <td>1.1</td>\n",
       "      <td>93.994</td>\n",
       "      <td>-36.4</td>\n",
       "      <td>4.857</td>\n",
       "      <td>5191.0</td>\n",
       "      <td>no</td>\n",
       "    </tr>\n",
       "    <tr>\n",
       "      <th>3</th>\n",
       "      <td>40</td>\n",
       "      <td>admin.</td>\n",
       "      <td>married</td>\n",
       "      <td>basic.6y</td>\n",
       "      <td>no</td>\n",
       "      <td>no</td>\n",
       "      <td>no</td>\n",
       "      <td>telephone</td>\n",
       "      <td>may</td>\n",
       "      <td>mon</td>\n",
       "      <td>...</td>\n",
       "      <td>1</td>\n",
       "      <td>999</td>\n",
       "      <td>0</td>\n",
       "      <td>nonexistent</td>\n",
       "      <td>1.1</td>\n",
       "      <td>93.994</td>\n",
       "      <td>-36.4</td>\n",
       "      <td>4.857</td>\n",
       "      <td>5191.0</td>\n",
       "      <td>no</td>\n",
       "    </tr>\n",
       "    <tr>\n",
       "      <th>4</th>\n",
       "      <td>56</td>\n",
       "      <td>services</td>\n",
       "      <td>married</td>\n",
       "      <td>high.school</td>\n",
       "      <td>no</td>\n",
       "      <td>no</td>\n",
       "      <td>yes</td>\n",
       "      <td>telephone</td>\n",
       "      <td>may</td>\n",
       "      <td>mon</td>\n",
       "      <td>...</td>\n",
       "      <td>1</td>\n",
       "      <td>999</td>\n",
       "      <td>0</td>\n",
       "      <td>nonexistent</td>\n",
       "      <td>1.1</td>\n",
       "      <td>93.994</td>\n",
       "      <td>-36.4</td>\n",
       "      <td>4.857</td>\n",
       "      <td>5191.0</td>\n",
       "      <td>no</td>\n",
       "    </tr>\n",
       "    <tr>\n",
       "      <th>...</th>\n",
       "      <td>...</td>\n",
       "      <td>...</td>\n",
       "      <td>...</td>\n",
       "      <td>...</td>\n",
       "      <td>...</td>\n",
       "      <td>...</td>\n",
       "      <td>...</td>\n",
       "      <td>...</td>\n",
       "      <td>...</td>\n",
       "      <td>...</td>\n",
       "      <td>...</td>\n",
       "      <td>...</td>\n",
       "      <td>...</td>\n",
       "      <td>...</td>\n",
       "      <td>...</td>\n",
       "      <td>...</td>\n",
       "      <td>...</td>\n",
       "      <td>...</td>\n",
       "      <td>...</td>\n",
       "      <td>...</td>\n",
       "      <td>...</td>\n",
       "    </tr>\n",
       "    <tr>\n",
       "      <th>41183</th>\n",
       "      <td>73</td>\n",
       "      <td>retired</td>\n",
       "      <td>married</td>\n",
       "      <td>professional.course</td>\n",
       "      <td>no</td>\n",
       "      <td>yes</td>\n",
       "      <td>no</td>\n",
       "      <td>cellular</td>\n",
       "      <td>nov</td>\n",
       "      <td>fri</td>\n",
       "      <td>...</td>\n",
       "      <td>1</td>\n",
       "      <td>999</td>\n",
       "      <td>0</td>\n",
       "      <td>nonexistent</td>\n",
       "      <td>-1.1</td>\n",
       "      <td>94.767</td>\n",
       "      <td>-50.8</td>\n",
       "      <td>1.028</td>\n",
       "      <td>4963.6</td>\n",
       "      <td>yes</td>\n",
       "    </tr>\n",
       "    <tr>\n",
       "      <th>41184</th>\n",
       "      <td>46</td>\n",
       "      <td>blue-collar</td>\n",
       "      <td>married</td>\n",
       "      <td>professional.course</td>\n",
       "      <td>no</td>\n",
       "      <td>no</td>\n",
       "      <td>no</td>\n",
       "      <td>cellular</td>\n",
       "      <td>nov</td>\n",
       "      <td>fri</td>\n",
       "      <td>...</td>\n",
       "      <td>1</td>\n",
       "      <td>999</td>\n",
       "      <td>0</td>\n",
       "      <td>nonexistent</td>\n",
       "      <td>-1.1</td>\n",
       "      <td>94.767</td>\n",
       "      <td>-50.8</td>\n",
       "      <td>1.028</td>\n",
       "      <td>4963.6</td>\n",
       "      <td>no</td>\n",
       "    </tr>\n",
       "    <tr>\n",
       "      <th>41185</th>\n",
       "      <td>56</td>\n",
       "      <td>retired</td>\n",
       "      <td>married</td>\n",
       "      <td>university.degree</td>\n",
       "      <td>no</td>\n",
       "      <td>yes</td>\n",
       "      <td>no</td>\n",
       "      <td>cellular</td>\n",
       "      <td>nov</td>\n",
       "      <td>fri</td>\n",
       "      <td>...</td>\n",
       "      <td>2</td>\n",
       "      <td>999</td>\n",
       "      <td>0</td>\n",
       "      <td>nonexistent</td>\n",
       "      <td>-1.1</td>\n",
       "      <td>94.767</td>\n",
       "      <td>-50.8</td>\n",
       "      <td>1.028</td>\n",
       "      <td>4963.6</td>\n",
       "      <td>no</td>\n",
       "    </tr>\n",
       "    <tr>\n",
       "      <th>41186</th>\n",
       "      <td>44</td>\n",
       "      <td>technician</td>\n",
       "      <td>married</td>\n",
       "      <td>professional.course</td>\n",
       "      <td>no</td>\n",
       "      <td>no</td>\n",
       "      <td>no</td>\n",
       "      <td>cellular</td>\n",
       "      <td>nov</td>\n",
       "      <td>fri</td>\n",
       "      <td>...</td>\n",
       "      <td>1</td>\n",
       "      <td>999</td>\n",
       "      <td>0</td>\n",
       "      <td>nonexistent</td>\n",
       "      <td>-1.1</td>\n",
       "      <td>94.767</td>\n",
       "      <td>-50.8</td>\n",
       "      <td>1.028</td>\n",
       "      <td>4963.6</td>\n",
       "      <td>yes</td>\n",
       "    </tr>\n",
       "    <tr>\n",
       "      <th>41187</th>\n",
       "      <td>74</td>\n",
       "      <td>retired</td>\n",
       "      <td>married</td>\n",
       "      <td>professional.course</td>\n",
       "      <td>no</td>\n",
       "      <td>yes</td>\n",
       "      <td>no</td>\n",
       "      <td>cellular</td>\n",
       "      <td>nov</td>\n",
       "      <td>fri</td>\n",
       "      <td>...</td>\n",
       "      <td>3</td>\n",
       "      <td>999</td>\n",
       "      <td>1</td>\n",
       "      <td>failure</td>\n",
       "      <td>-1.1</td>\n",
       "      <td>94.767</td>\n",
       "      <td>-50.8</td>\n",
       "      <td>1.028</td>\n",
       "      <td>4963.6</td>\n",
       "      <td>no</td>\n",
       "    </tr>\n",
       "  </tbody>\n",
       "</table>\n",
       "<p>41188 rows × 21 columns</p>\n",
       "</div>"
      ],
      "text/plain": [
       "       age          job  marital            education  default housing loan  \\\n",
       "0       56    housemaid  married             basic.4y       no      no   no   \n",
       "1       57     services  married          high.school  unknown      no   no   \n",
       "2       37     services  married          high.school       no     yes   no   \n",
       "3       40       admin.  married             basic.6y       no      no   no   \n",
       "4       56     services  married          high.school       no      no  yes   \n",
       "...    ...          ...      ...                  ...      ...     ...  ...   \n",
       "41183   73      retired  married  professional.course       no     yes   no   \n",
       "41184   46  blue-collar  married  professional.course       no      no   no   \n",
       "41185   56      retired  married    university.degree       no     yes   no   \n",
       "41186   44   technician  married  professional.course       no      no   no   \n",
       "41187   74      retired  married  professional.course       no     yes   no   \n",
       "\n",
       "         contact month day_of_week  ...  campaign  pdays  previous  \\\n",
       "0      telephone   may         mon  ...         1    999         0   \n",
       "1      telephone   may         mon  ...         1    999         0   \n",
       "2      telephone   may         mon  ...         1    999         0   \n",
       "3      telephone   may         mon  ...         1    999         0   \n",
       "4      telephone   may         mon  ...         1    999         0   \n",
       "...          ...   ...         ...  ...       ...    ...       ...   \n",
       "41183   cellular   nov         fri  ...         1    999         0   \n",
       "41184   cellular   nov         fri  ...         1    999         0   \n",
       "41185   cellular   nov         fri  ...         2    999         0   \n",
       "41186   cellular   nov         fri  ...         1    999         0   \n",
       "41187   cellular   nov         fri  ...         3    999         1   \n",
       "\n",
       "          poutcome emp.var.rate  cons.price.idx  cons.conf.idx  euribor3m  \\\n",
       "0      nonexistent          1.1          93.994          -36.4      4.857   \n",
       "1      nonexistent          1.1          93.994          -36.4      4.857   \n",
       "2      nonexistent          1.1          93.994          -36.4      4.857   \n",
       "3      nonexistent          1.1          93.994          -36.4      4.857   \n",
       "4      nonexistent          1.1          93.994          -36.4      4.857   \n",
       "...            ...          ...             ...            ...        ...   \n",
       "41183  nonexistent         -1.1          94.767          -50.8      1.028   \n",
       "41184  nonexistent         -1.1          94.767          -50.8      1.028   \n",
       "41185  nonexistent         -1.1          94.767          -50.8      1.028   \n",
       "41186  nonexistent         -1.1          94.767          -50.8      1.028   \n",
       "41187      failure         -1.1          94.767          -50.8      1.028   \n",
       "\n",
       "       nr.employed    y  \n",
       "0           5191.0   no  \n",
       "1           5191.0   no  \n",
       "2           5191.0   no  \n",
       "3           5191.0   no  \n",
       "4           5191.0   no  \n",
       "...            ...  ...  \n",
       "41183       4963.6  yes  \n",
       "41184       4963.6   no  \n",
       "41185       4963.6   no  \n",
       "41186       4963.6  yes  \n",
       "41187       4963.6   no  \n",
       "\n",
       "[41188 rows x 21 columns]"
      ]
     },
     "execution_count": 2,
     "metadata": {},
     "output_type": "execute_result"
    }
   ],
   "source": [
    "data= pd.read_csv('bank-additional-full.csv', sep= ';')\n",
    "data"
   ]
  },
  {
   "cell_type": "code",
   "execution_count": 3,
   "metadata": {},
   "outputs": [
    {
     "name": "stdout",
     "output_type": "stream",
     "text": [
      "<class 'pandas.core.frame.DataFrame'>\n",
      "RangeIndex: 41188 entries, 0 to 41187\n",
      "Data columns (total 21 columns):\n",
      " #   Column          Non-Null Count  Dtype  \n",
      "---  ------          --------------  -----  \n",
      " 0   age             41188 non-null  int64  \n",
      " 1   job             41188 non-null  object \n",
      " 2   marital         41188 non-null  object \n",
      " 3   education       41188 non-null  object \n",
      " 4   default         41188 non-null  object \n",
      " 5   housing         41188 non-null  object \n",
      " 6   loan            41188 non-null  object \n",
      " 7   contact         41188 non-null  object \n",
      " 8   month           41188 non-null  object \n",
      " 9   day_of_week     41188 non-null  object \n",
      " 10  duration        41188 non-null  int64  \n",
      " 11  campaign        41188 non-null  int64  \n",
      " 12  pdays           41188 non-null  int64  \n",
      " 13  previous        41188 non-null  int64  \n",
      " 14  poutcome        41188 non-null  object \n",
      " 15  emp.var.rate    41188 non-null  float64\n",
      " 16  cons.price.idx  41188 non-null  float64\n",
      " 17  cons.conf.idx   41188 non-null  float64\n",
      " 18  euribor3m       41188 non-null  float64\n",
      " 19  nr.employed     41188 non-null  float64\n",
      " 20  y               41188 non-null  object \n",
      "dtypes: float64(5), int64(5), object(11)\n",
      "memory usage: 6.6+ MB\n"
     ]
    }
   ],
   "source": [
    "data.info()"
   ]
  },
  {
   "cell_type": "code",
   "execution_count": 4,
   "metadata": {
    "scrolled": false
   },
   "outputs": [
    {
     "data": {
      "text/html": [
       "<div>\n",
       "<style scoped>\n",
       "    .dataframe tbody tr th:only-of-type {\n",
       "        vertical-align: middle;\n",
       "    }\n",
       "\n",
       "    .dataframe tbody tr th {\n",
       "        vertical-align: top;\n",
       "    }\n",
       "\n",
       "    .dataframe thead th {\n",
       "        text-align: right;\n",
       "    }\n",
       "</style>\n",
       "<table border=\"1\" class=\"dataframe\">\n",
       "  <thead>\n",
       "    <tr style=\"text-align: right;\">\n",
       "      <th></th>\n",
       "      <th>age</th>\n",
       "      <th>duration</th>\n",
       "      <th>campaign</th>\n",
       "      <th>pdays</th>\n",
       "      <th>previous</th>\n",
       "      <th>emp.var.rate</th>\n",
       "      <th>cons.price.idx</th>\n",
       "      <th>cons.conf.idx</th>\n",
       "      <th>euribor3m</th>\n",
       "      <th>nr.employed</th>\n",
       "    </tr>\n",
       "  </thead>\n",
       "  <tbody>\n",
       "    <tr>\n",
       "      <th>count</th>\n",
       "      <td>41188.00000</td>\n",
       "      <td>41188.000000</td>\n",
       "      <td>41188.000000</td>\n",
       "      <td>41188.000000</td>\n",
       "      <td>41188.000000</td>\n",
       "      <td>41188.000000</td>\n",
       "      <td>41188.000000</td>\n",
       "      <td>41188.000000</td>\n",
       "      <td>41188.000000</td>\n",
       "      <td>41188.000000</td>\n",
       "    </tr>\n",
       "    <tr>\n",
       "      <th>mean</th>\n",
       "      <td>40.02406</td>\n",
       "      <td>258.285010</td>\n",
       "      <td>2.567593</td>\n",
       "      <td>962.475454</td>\n",
       "      <td>0.172963</td>\n",
       "      <td>0.081886</td>\n",
       "      <td>93.575664</td>\n",
       "      <td>-40.502600</td>\n",
       "      <td>3.621291</td>\n",
       "      <td>5167.035911</td>\n",
       "    </tr>\n",
       "    <tr>\n",
       "      <th>std</th>\n",
       "      <td>10.42125</td>\n",
       "      <td>259.279249</td>\n",
       "      <td>2.770014</td>\n",
       "      <td>186.910907</td>\n",
       "      <td>0.494901</td>\n",
       "      <td>1.570960</td>\n",
       "      <td>0.578840</td>\n",
       "      <td>4.628198</td>\n",
       "      <td>1.734447</td>\n",
       "      <td>72.251528</td>\n",
       "    </tr>\n",
       "    <tr>\n",
       "      <th>min</th>\n",
       "      <td>17.00000</td>\n",
       "      <td>0.000000</td>\n",
       "      <td>1.000000</td>\n",
       "      <td>0.000000</td>\n",
       "      <td>0.000000</td>\n",
       "      <td>-3.400000</td>\n",
       "      <td>92.201000</td>\n",
       "      <td>-50.800000</td>\n",
       "      <td>0.634000</td>\n",
       "      <td>4963.600000</td>\n",
       "    </tr>\n",
       "    <tr>\n",
       "      <th>25%</th>\n",
       "      <td>32.00000</td>\n",
       "      <td>102.000000</td>\n",
       "      <td>1.000000</td>\n",
       "      <td>999.000000</td>\n",
       "      <td>0.000000</td>\n",
       "      <td>-1.800000</td>\n",
       "      <td>93.075000</td>\n",
       "      <td>-42.700000</td>\n",
       "      <td>1.344000</td>\n",
       "      <td>5099.100000</td>\n",
       "    </tr>\n",
       "    <tr>\n",
       "      <th>50%</th>\n",
       "      <td>38.00000</td>\n",
       "      <td>180.000000</td>\n",
       "      <td>2.000000</td>\n",
       "      <td>999.000000</td>\n",
       "      <td>0.000000</td>\n",
       "      <td>1.100000</td>\n",
       "      <td>93.749000</td>\n",
       "      <td>-41.800000</td>\n",
       "      <td>4.857000</td>\n",
       "      <td>5191.000000</td>\n",
       "    </tr>\n",
       "    <tr>\n",
       "      <th>75%</th>\n",
       "      <td>47.00000</td>\n",
       "      <td>319.000000</td>\n",
       "      <td>3.000000</td>\n",
       "      <td>999.000000</td>\n",
       "      <td>0.000000</td>\n",
       "      <td>1.400000</td>\n",
       "      <td>93.994000</td>\n",
       "      <td>-36.400000</td>\n",
       "      <td>4.961000</td>\n",
       "      <td>5228.100000</td>\n",
       "    </tr>\n",
       "    <tr>\n",
       "      <th>max</th>\n",
       "      <td>98.00000</td>\n",
       "      <td>4918.000000</td>\n",
       "      <td>56.000000</td>\n",
       "      <td>999.000000</td>\n",
       "      <td>7.000000</td>\n",
       "      <td>1.400000</td>\n",
       "      <td>94.767000</td>\n",
       "      <td>-26.900000</td>\n",
       "      <td>5.045000</td>\n",
       "      <td>5228.100000</td>\n",
       "    </tr>\n",
       "  </tbody>\n",
       "</table>\n",
       "</div>"
      ],
      "text/plain": [
       "               age      duration      campaign         pdays      previous  \\\n",
       "count  41188.00000  41188.000000  41188.000000  41188.000000  41188.000000   \n",
       "mean      40.02406    258.285010      2.567593    962.475454      0.172963   \n",
       "std       10.42125    259.279249      2.770014    186.910907      0.494901   \n",
       "min       17.00000      0.000000      1.000000      0.000000      0.000000   \n",
       "25%       32.00000    102.000000      1.000000    999.000000      0.000000   \n",
       "50%       38.00000    180.000000      2.000000    999.000000      0.000000   \n",
       "75%       47.00000    319.000000      3.000000    999.000000      0.000000   \n",
       "max       98.00000   4918.000000     56.000000    999.000000      7.000000   \n",
       "\n",
       "       emp.var.rate  cons.price.idx  cons.conf.idx     euribor3m   nr.employed  \n",
       "count  41188.000000    41188.000000   41188.000000  41188.000000  41188.000000  \n",
       "mean       0.081886       93.575664     -40.502600      3.621291   5167.035911  \n",
       "std        1.570960        0.578840       4.628198      1.734447     72.251528  \n",
       "min       -3.400000       92.201000     -50.800000      0.634000   4963.600000  \n",
       "25%       -1.800000       93.075000     -42.700000      1.344000   5099.100000  \n",
       "50%        1.100000       93.749000     -41.800000      4.857000   5191.000000  \n",
       "75%        1.400000       93.994000     -36.400000      4.961000   5228.100000  \n",
       "max        1.400000       94.767000     -26.900000      5.045000   5228.100000  "
      ]
     },
     "execution_count": 4,
     "metadata": {},
     "output_type": "execute_result"
    }
   ],
   "source": [
    "data.describe()"
   ]
  },
  {
   "cell_type": "code",
   "execution_count": 5,
   "metadata": {},
   "outputs": [
    {
     "data": {
      "text/html": [
       "<div>\n",
       "<style scoped>\n",
       "    .dataframe tbody tr th:only-of-type {\n",
       "        vertical-align: middle;\n",
       "    }\n",
       "\n",
       "    .dataframe tbody tr th {\n",
       "        vertical-align: top;\n",
       "    }\n",
       "\n",
       "    .dataframe thead th {\n",
       "        text-align: right;\n",
       "    }\n",
       "</style>\n",
       "<table border=\"1\" class=\"dataframe\">\n",
       "  <thead>\n",
       "    <tr style=\"text-align: right;\">\n",
       "      <th></th>\n",
       "      <th>job</th>\n",
       "      <th>marital</th>\n",
       "      <th>education</th>\n",
       "      <th>default</th>\n",
       "      <th>housing</th>\n",
       "      <th>loan</th>\n",
       "      <th>contact</th>\n",
       "      <th>month</th>\n",
       "      <th>day_of_week</th>\n",
       "      <th>poutcome</th>\n",
       "      <th>y</th>\n",
       "    </tr>\n",
       "  </thead>\n",
       "  <tbody>\n",
       "    <tr>\n",
       "      <th>count</th>\n",
       "      <td>41188</td>\n",
       "      <td>41188</td>\n",
       "      <td>41188</td>\n",
       "      <td>41188</td>\n",
       "      <td>41188</td>\n",
       "      <td>41188</td>\n",
       "      <td>41188</td>\n",
       "      <td>41188</td>\n",
       "      <td>41188</td>\n",
       "      <td>41188</td>\n",
       "      <td>41188</td>\n",
       "    </tr>\n",
       "    <tr>\n",
       "      <th>unique</th>\n",
       "      <td>12</td>\n",
       "      <td>4</td>\n",
       "      <td>8</td>\n",
       "      <td>3</td>\n",
       "      <td>3</td>\n",
       "      <td>3</td>\n",
       "      <td>2</td>\n",
       "      <td>10</td>\n",
       "      <td>5</td>\n",
       "      <td>3</td>\n",
       "      <td>2</td>\n",
       "    </tr>\n",
       "    <tr>\n",
       "      <th>top</th>\n",
       "      <td>admin.</td>\n",
       "      <td>married</td>\n",
       "      <td>university.degree</td>\n",
       "      <td>no</td>\n",
       "      <td>yes</td>\n",
       "      <td>no</td>\n",
       "      <td>cellular</td>\n",
       "      <td>may</td>\n",
       "      <td>thu</td>\n",
       "      <td>nonexistent</td>\n",
       "      <td>no</td>\n",
       "    </tr>\n",
       "    <tr>\n",
       "      <th>freq</th>\n",
       "      <td>10422</td>\n",
       "      <td>24928</td>\n",
       "      <td>12168</td>\n",
       "      <td>32588</td>\n",
       "      <td>21576</td>\n",
       "      <td>33950</td>\n",
       "      <td>26144</td>\n",
       "      <td>13769</td>\n",
       "      <td>8623</td>\n",
       "      <td>35563</td>\n",
       "      <td>36548</td>\n",
       "    </tr>\n",
       "  </tbody>\n",
       "</table>\n",
       "</div>"
      ],
      "text/plain": [
       "           job  marital          education default housing   loan   contact  \\\n",
       "count    41188    41188              41188   41188   41188  41188     41188   \n",
       "unique      12        4                  8       3       3      3         2   \n",
       "top     admin.  married  university.degree      no     yes     no  cellular   \n",
       "freq     10422    24928              12168   32588   21576  33950     26144   \n",
       "\n",
       "        month day_of_week     poutcome      y  \n",
       "count   41188       41188        41188  41188  \n",
       "unique     10           5            3      2  \n",
       "top       may         thu  nonexistent     no  \n",
       "freq    13769        8623        35563  36548  "
      ]
     },
     "execution_count": 5,
     "metadata": {},
     "output_type": "execute_result"
    }
   ],
   "source": [
    "data.describe(exclude='number')"
   ]
  },
  {
   "cell_type": "code",
   "execution_count": 6,
   "metadata": {},
   "outputs": [
    {
     "data": {
      "text/plain": [
       "age               0\n",
       "job               0\n",
       "marital           0\n",
       "education         0\n",
       "default           0\n",
       "housing           0\n",
       "loan              0\n",
       "contact           0\n",
       "month             0\n",
       "day_of_week       0\n",
       "duration          0\n",
       "campaign          0\n",
       "pdays             0\n",
       "previous          0\n",
       "poutcome          0\n",
       "emp.var.rate      0\n",
       "cons.price.idx    0\n",
       "cons.conf.idx     0\n",
       "euribor3m         0\n",
       "nr.employed       0\n",
       "y                 0\n",
       "dtype: int64"
      ]
     },
     "execution_count": 6,
     "metadata": {},
     "output_type": "execute_result"
    }
   ],
   "source": [
    "data.isna().sum()"
   ]
  },
  {
   "cell_type": "code",
   "execution_count": 7,
   "metadata": {
    "scrolled": false
   },
   "outputs": [
    {
     "data": {
      "text/plain": [
       "Index(['age', 'job', 'marital', 'education', 'default', 'housing', 'loan',\n",
       "       'contact', 'month', 'day_of_week', 'duration', 'campaign', 'pdays',\n",
       "       'previous', 'poutcome', 'emp.var.rate', 'cons.price.idx',\n",
       "       'cons.conf.idx', 'euribor3m', 'nr.employed', 'y'],\n",
       "      dtype='object')"
      ]
     },
     "execution_count": 7,
     "metadata": {},
     "output_type": "execute_result"
    }
   ],
   "source": [
    "data.columns"
   ]
  },
  {
   "cell_type": "markdown",
   "metadata": {},
   "source": [
    "## Feature:\n",
    "\n",
    "* 1 - age (***numeric***)\n",
    "* 2 - job : type of job (***categorical***: 'admin.','blue-collar','entrepreneur','housemaid','management','retired','self-employed','services','student','technician','unemployed','unknown')\n",
    "* 3 - marital : marital status (***categorical***: 'divorced','married','single','unknown'; note: 'divorced' means divorced or widowed)\n",
    "* 4 - education (***categorical***: basic.4y','basic.6y','basic.9y','high.school','illiterate','professional.course','university.degree','unknown')\n",
    "* 5 - default: has credit in default? (***categorical***: 'no','yes','unknown')\n",
    "* 6 - housing: has housing loan? (***categorical***: 'no','yes','unknown')\n",
    "* 7 - loan: has personal loan? (***categorical***: 'no','yes','unknown')\n",
    "\n",
    "**related with the last contact of the current campaign:**\n",
    "* 8 - contact: contact communication type (***categorical***: 'cellular','telephone')\n",
    "* 9 - month: last contact month of year (***categorical***: 'jan', 'feb', 'mar', ..., 'nov', 'dec')\n",
    "* 10 - day_of_week: last contact day of the week (***categorical***: 'mon','tue','wed','thu','fri')\n",
    "* 11 - duration: last contact duration, in seconds (***numeric***). \n",
    ">*Important note: this attribute highly affects the output target (e.g., if duration=0 then y='no'). Yet, the duration is not known before a call is performed. Also, after the end of the call y is obviously known. Thus, this input should only be included for benchmark purposes and should be discarded if the intention is to have a realistic predictive model.*\n",
    "\n",
    "**other attributes:** \n",
    "* 12 - campaign: number of contacts performed during this campaign and for this client (***numeric***, includes last contact)\n",
    "* 13 - pdays: number of days that passed by after the client was last contacted from a previous campaign (***numeric***; 999 means client was not previously contacted)\n",
    "* 14 - previous: number of contacts performed before this campaign and for this client (***numeric***)\n",
    "* 15 - poutcome: outcome of the previous marketing campaign (***categorical***: 'failure','nonexistent','success')\n",
    "\n",
    "**social and economic context attributes:**\n",
    "* 16 - emp.var.rate: employment variation rate - quarterly indicator (***numeric***)\n",
    "* 17 - cons.price.idx: consumer price index - monthly indicator (***numeric***)\n",
    "* 18 - cons.conf.idx: consumer confidence index - monthly indicator (***numeric***)\n",
    "* 19 - euribor3m: euribor 3 month rate - daily indicator (***numeric***)\n",
    "* 20 - nr.employed: number of employees - quarterly indicator (***numeric***)\n",
    "\n",
    "### Output variable (desired target):\n",
    "* 21 - y - has the client subscribed a term deposit? ('yes','no')"
   ]
  },
  {
   "cell_type": "markdown",
   "metadata": {},
   "source": [
    "# Preprocessing"
   ]
  },
  {
   "cell_type": "markdown",
   "metadata": {},
   "source": [
    "## Preprocessing Scheme:\n",
    "- drop duration\n",
    "- ubah pdays 999 menjadi 0\n",
    "\n",
    "- ordinal encoding:\n",
    ">* 'education',\n",
    "\n",
    "- binary encoding:\n",
    ">* 'job','month','day_of_week'\n",
    "\n",
    "- one hot:\n",
    ">* 'marital','default','housing','loan','contact','poutcome'"
   ]
  },
  {
   "cell_type": "code",
   "execution_count": 8,
   "metadata": {},
   "outputs": [],
   "source": [
    "num_feature= ['age','duration','campaign','pdays','previous','emp.var.rate','cons.price.idx','cons.conf.idx','euribor3m','nr.employed']\n",
    "cat_feature= ['job','marital','education','default','housing','loan','contact','month','day_of_week','poutcome']"
   ]
  },
  {
   "cell_type": "code",
   "execution_count": 9,
   "metadata": {},
   "outputs": [],
   "source": [
    "data= data.drop('duration', axis= 1)"
   ]
  },
  {
   "cell_type": "code",
   "execution_count": 10,
   "metadata": {},
   "outputs": [],
   "source": [
    "data['pdays']= data['pdays'].replace(999,0)"
   ]
  },
  {
   "cell_type": "code",
   "execution_count": 11,
   "metadata": {},
   "outputs": [],
   "source": [
    "ordinal_mapping=[\n",
    "    {'col':'education',\n",
    "    'mapping':{'illiterate':0,'basic.4y':1,'basic.6y':2,'basic.9y':3,'high.school':4,'university.degree':5,'professional.course':6,'unknown':7 }}\n",
    "]\n",
    "ordinal_encoder= ce.OrdinalEncoder(mapping=ordinal_mapping)\n",
    "\n",
    "transformer= ColumnTransformer([\n",
    "    ('onehot', OneHotEncoder(),['marital','default','housing','loan','contact','poutcome']),\n",
    "    ('binary', ce.BinaryEncoder(),['job','month','day_of_week']),\n",
    "    ('ordinal', ordinal_encoder,['education'])\n",
    "    ], remainder='passthrough')\n",
    "\n",
    "transformer_knn= ColumnTransformer([\n",
    "    ('onehot', OneHotEncoder(),['marital','default','housing','loan','contact','poutcome']),\n",
    "    ('binary', ce.BinaryEncoder(),['job','month','day_of_week']),\n",
    "    ('ordinal', ordinal_encoder,['education']),\n",
    "    ('scaling', RobustScaler(),['age','campaign','pdays','previous','emp.var.rate','cons.price.idx','cons.conf.idx','euribor3m','nr.employed'])\n",
    "    ])\n",
    "\n",
    "transformer_logreg= ColumnTransformer([\n",
    "    ('onehot', OneHotEncoder(drop= 'first'),['marital','default','housing','loan','contact','poutcome']),\n",
    "    ('binary', ce.BinaryEncoder(),['job','month','day_of_week']),\n",
    "    ('ordinal', ordinal_encoder,['education']),\n",
    "    ('poly', PolynomialFeatures(degree = 3),['age','campaign','pdays','previous','emp.var.rate','cons.price.idx','cons.conf.idx','euribor3m','nr.employed'])\n",
    "    ])"
   ]
  },
  {
   "cell_type": "code",
   "execution_count": 12,
   "metadata": {},
   "outputs": [
    {
     "data": {
      "text/plain": [
       "array([[0.0, 1.0, 0.0, ..., 4.857, 5191.0, 'no'],\n",
       "       [0.0, 1.0, 0.0, ..., 4.857, 5191.0, 'no'],\n",
       "       [0.0, 1.0, 0.0, ..., 4.857, 5191.0, 'no'],\n",
       "       ...,\n",
       "       [0.0, 1.0, 0.0, ..., 1.028, 4963.6, 'no'],\n",
       "       [0.0, 1.0, 0.0, ..., 1.028, 4963.6, 'yes'],\n",
       "       [0.0, 1.0, 0.0, ..., 1.028, 4963.6, 'no']], dtype=object)"
      ]
     },
     "execution_count": 12,
     "metadata": {},
     "output_type": "execute_result"
    }
   ],
   "source": [
    "transformer.fit_transform(data)"
   ]
  },
  {
   "cell_type": "markdown",
   "metadata": {},
   "source": [
    "## Data Splitting"
   ]
  },
  {
   "cell_type": "code",
   "execution_count": 13,
   "metadata": {},
   "outputs": [],
   "source": [
    "X= data.drop(['y'], axis= 1)\n",
    "y= np.where(data['y']== 'no',0,1)"
   ]
  },
  {
   "cell_type": "code",
   "execution_count": 14,
   "metadata": {},
   "outputs": [],
   "source": [
    "X_train,X_test,y_train,y_test= train_test_split(\n",
    "    X,y, \n",
    "    stratify= y, \n",
    "    test_size= 0.25,\n",
    "    random_state= 2020)"
   ]
  },
  {
   "cell_type": "code",
   "execution_count": 15,
   "metadata": {},
   "outputs": [
    {
     "data": {
      "text/plain": [
       "((41188, 19), (41188,))"
      ]
     },
     "execution_count": 15,
     "metadata": {},
     "output_type": "execute_result"
    }
   ],
   "source": [
    "X.shape, y.shape"
   ]
  },
  {
   "cell_type": "markdown",
   "metadata": {},
   "source": [
    "* 0: Tidak deposit\n",
    "* 1: Deposit\n",
    "\n",
    "\n",
    "* TN: Diprediksi tidak deposit, kenyataannya tidak deposit\n",
    "* TP: Diprediksi deposit, kenyataannya deposit\n",
    "* FP: Diprediksi deposit, kenyataannya tidak deposit\n",
    "* FN: Diprediksi tidak deposit, kenyataannya deposit\n",
    "\n",
    "\n",
    "Tindakan:\n",
    "- FP -> Kinerja telemarketer tidak efektif, karena banyak client yang tidak deposit.\n",
    "- FN -> Ada kerugian jika client yang kemungkinan bisa deposit namun tidak di telfon karena dianggap tidak akan deposit.\n",
    "yang akan dilakukan adalah **menekan kesalahan FN**, dan tetap membiarkan telemarketer **menelfon client sebanyak-banyaknya**, karena ada kemungkinan client yang tidak deposit akan deposit. Jadi yang akan digunakan adalah **Recall**"
   ]
  },
  {
   "cell_type": "markdown",
   "metadata": {},
   "source": [
    "# Model Selection : Benchmark"
   ]
  },
  {
   "cell_type": "markdown",
   "metadata": {},
   "source": [
    "Model yang digunakan untuk memprediksi adalah Logistic Regression, KNN, Decision Tree, dan Random Forest"
   ]
  },
  {
   "cell_type": "code",
   "execution_count": 16,
   "metadata": {
    "scrolled": true
   },
   "outputs": [
    {
     "data": {
      "text/html": [
       "<div>\n",
       "<style scoped>\n",
       "    .dataframe tbody tr th:only-of-type {\n",
       "        vertical-align: middle;\n",
       "    }\n",
       "\n",
       "    .dataframe tbody tr th {\n",
       "        vertical-align: top;\n",
       "    }\n",
       "\n",
       "    .dataframe thead th {\n",
       "        text-align: right;\n",
       "    }\n",
       "</style>\n",
       "<table border=\"1\" class=\"dataframe\">\n",
       "  <thead>\n",
       "    <tr style=\"text-align: right;\">\n",
       "      <th></th>\n",
       "      <th>Model</th>\n",
       "      <th>1</th>\n",
       "      <th>2</th>\n",
       "      <th>3</th>\n",
       "      <th>4</th>\n",
       "      <th>5</th>\n",
       "      <th>mean cv</th>\n",
       "      <th>std cv</th>\n",
       "      <th>recall score</th>\n",
       "    </tr>\n",
       "  </thead>\n",
       "  <tbody>\n",
       "    <tr>\n",
       "      <th>2</th>\n",
       "      <td>DecisionTreeClassifier</td>\n",
       "      <td>0.326149</td>\n",
       "      <td>0.331897</td>\n",
       "      <td>0.334770</td>\n",
       "      <td>0.321839</td>\n",
       "      <td>0.340517</td>\n",
       "      <td>0.331034</td>\n",
       "      <td>0.006527</td>\n",
       "      <td>0.347414</td>\n",
       "    </tr>\n",
       "    <tr>\n",
       "      <th>3</th>\n",
       "      <td>RandomForestClassifier</td>\n",
       "      <td>0.311782</td>\n",
       "      <td>0.272989</td>\n",
       "      <td>0.300287</td>\n",
       "      <td>0.278736</td>\n",
       "      <td>0.294540</td>\n",
       "      <td>0.291667</td>\n",
       "      <td>0.014165</td>\n",
       "      <td>0.272414</td>\n",
       "    </tr>\n",
       "    <tr>\n",
       "      <th>1</th>\n",
       "      <td>KNeighborsClassifier</td>\n",
       "      <td>0.285920</td>\n",
       "      <td>0.265805</td>\n",
       "      <td>0.284483</td>\n",
       "      <td>0.271552</td>\n",
       "      <td>0.283046</td>\n",
       "      <td>0.278161</td>\n",
       "      <td>0.008005</td>\n",
       "      <td>0.260345</td>\n",
       "    </tr>\n",
       "    <tr>\n",
       "      <th>0</th>\n",
       "      <td>LogisticRegression</td>\n",
       "      <td>0.158046</td>\n",
       "      <td>0.146552</td>\n",
       "      <td>0.166667</td>\n",
       "      <td>0.159483</td>\n",
       "      <td>0.136494</td>\n",
       "      <td>0.153448</td>\n",
       "      <td>0.010652</td>\n",
       "      <td>0.146552</td>\n",
       "    </tr>\n",
       "  </tbody>\n",
       "</table>\n",
       "</div>"
      ],
      "text/plain": [
       "                    Model         1         2         3         4         5  \\\n",
       "2  DecisionTreeClassifier  0.326149  0.331897  0.334770  0.321839  0.340517   \n",
       "3  RandomForestClassifier  0.311782  0.272989  0.300287  0.278736  0.294540   \n",
       "1    KNeighborsClassifier  0.285920  0.265805  0.284483  0.271552  0.283046   \n",
       "0      LogisticRegression  0.158046  0.146552  0.166667  0.159483  0.136494   \n",
       "\n",
       "    mean cv    std cv  recall score  \n",
       "2  0.331034  0.006527      0.347414  \n",
       "3  0.291667  0.014165      0.272414  \n",
       "1  0.278161  0.008005      0.260345  \n",
       "0  0.153448  0.010652      0.146552  "
      ]
     },
     "execution_count": 16,
     "metadata": {},
     "output_type": "execute_result"
    }
   ],
   "source": [
    "#Model\n",
    "logreg= LogisticRegression(random_state= 2020)\n",
    "knn= KNeighborsClassifier()\n",
    "tree= DecisionTreeClassifier(random_state= 2020)\n",
    "rf= RandomForestClassifier(random_state= 2020)\n",
    "\n",
    "#Transform\n",
    "pipe_logreg= Pipeline([('transformer', transformer_logreg),('model',logreg)])\n",
    "pipe_knn= Pipeline([('transformer', transformer_knn),('model', knn)])\n",
    "pipe_tree= Pipeline([('transformer', transformer),('model', tree)])\n",
    "pipe_rf= Pipeline([('transformer', transformer),('model', rf)])\n",
    "\n",
    "list_pipe= [pipe_logreg, pipe_knn, pipe_tree, pipe_rf]\n",
    "\n",
    "def model_evaluation(list_pipe, scoring):\n",
    "    skfold= StratifiedKFold(n_splits=5)\n",
    "    df= pd.DataFrame(columns= ['Model','1','2','3','4','5','mean cv','std cv'])\n",
    "    for i in list_pipe:\n",
    "        arr = cross_val_score(i, X_train, y_train, scoring= scoring,cv=skfold)\n",
    "        df = df.append({'Model':str(i[-1]).split('(')[0], '1':arr[0], '2':arr[1], '3':arr[2], '4':arr[3], '5':arr[4], 'mean cv':arr.mean(),'std cv':arr.std()}, ignore_index=True)\n",
    "    return df\n",
    "\n",
    "def recall(list_pipe):\n",
    "    df= pd.DataFrame(columns= ['Model','recall score'])\n",
    "    for i in list_pipe:\n",
    "        i.fit(X_train, y_train)\n",
    "        pred= i.predict(X_test)\n",
    "        arr= recall_score(y_test, pred)\n",
    "        df= df.append({'Model': str(i[-1]).split('(')[0], 'recall score': arr}, ignore_index= True)\n",
    "    return df\n",
    "\n",
    "model_score= model_evaluation(list_pipe, 'recall')\n",
    "recall_result= recall(list_pipe)\n",
    "\n",
    "model_score= model_score.merge(recall_result)\n",
    "model_score.sort_values('recall score', ascending= False)"
   ]
  },
  {
   "cell_type": "code",
   "execution_count": 17,
   "metadata": {
    "scrolled": true
   },
   "outputs": [
    {
     "name": "stdout",
     "output_type": "stream",
     "text": [
      "              precision    recall  f1-score   support\n",
      "\n",
      "           0       0.92      0.91      0.91      9137\n",
      "           1       0.32      0.35      0.33      1160\n",
      "\n",
      "    accuracy                           0.84     10297\n",
      "   macro avg       0.62      0.63      0.62     10297\n",
      "weighted avg       0.85      0.84      0.85     10297\n",
      "\n"
     ]
    },
    {
     "data": {
      "text/plain": [
       "<sklearn.metrics._plot.precision_recall_curve.PrecisionRecallDisplay at 0x2ad8afa8b50>"
      ]
     },
     "execution_count": 17,
     "metadata": {},
     "output_type": "execute_result"
    },
    {
     "data": {
      "image/png": "[encoded data removed]",
      "text/plain": [
       "<Figure size 432x288 with 1 Axes>"
      ]
     },
     "metadata": {
      "needs_background": "light"
     },
     "output_type": "display_data"
    }
   ],
   "source": [
    "pipe_tree.fit(X_train,y_train)\n",
    "print(classification_report(y_test,pipe_tree.predict(X_test)))\n",
    "plot_precision_recall_curve(pipe_tree, X_test, y_test)"
   ]
  },
  {
   "cell_type": "markdown",
   "metadata": {},
   "source": [
    "Karena score masih sangat kecil dan datanya imbalance, maka akan dilakukan resampling dengan metode **Random Under Sampler dan Random Over Sampler**"
   ]
  },
  {
   "cell_type": "code",
   "execution_count": 38,
   "metadata": {
    "scrolled": false
   },
   "outputs": [
    {
     "data": {
      "text/html": [
       "<div>\n",
       "<style scoped>\n",
       "    .dataframe tbody tr th:only-of-type {\n",
       "        vertical-align: middle;\n",
       "    }\n",
       "\n",
       "    .dataframe tbody tr th {\n",
       "        vertical-align: top;\n",
       "    }\n",
       "\n",
       "    .dataframe thead th {\n",
       "        text-align: right;\n",
       "    }\n",
       "</style>\n",
       "<table border=\"1\" class=\"dataframe\">\n",
       "  <thead>\n",
       "    <tr style=\"text-align: right;\">\n",
       "      <th></th>\n",
       "      <th>Model</th>\n",
       "      <th>1</th>\n",
       "      <th>2</th>\n",
       "      <th>3</th>\n",
       "      <th>4</th>\n",
       "      <th>5</th>\n",
       "      <th>mean cv</th>\n",
       "      <th>std cv</th>\n",
       "      <th>recall score</th>\n",
       "    </tr>\n",
       "  </thead>\n",
       "  <tbody>\n",
       "    <tr>\n",
       "      <th>0</th>\n",
       "      <td>LogisticRegression Undersampler</td>\n",
       "      <td>0.724138</td>\n",
       "      <td>0.722701</td>\n",
       "      <td>0.691092</td>\n",
       "      <td>0.721264</td>\n",
       "      <td>0.693966</td>\n",
       "      <td>0.710632</td>\n",
       "      <td>0.014837</td>\n",
       "      <td>0.706034</td>\n",
       "    </tr>\n",
       "    <tr>\n",
       "      <th>3</th>\n",
       "      <td>RandomForestClassifier Undersampler</td>\n",
       "      <td>0.689655</td>\n",
       "      <td>0.662356</td>\n",
       "      <td>0.639368</td>\n",
       "      <td>0.665230</td>\n",
       "      <td>0.668103</td>\n",
       "      <td>0.664943</td>\n",
       "      <td>0.016010</td>\n",
       "      <td>0.662069</td>\n",
       "    </tr>\n",
       "    <tr>\n",
       "      <th>2</th>\n",
       "      <td>DecisionTreeClassifier Undersampler</td>\n",
       "      <td>0.673851</td>\n",
       "      <td>0.642241</td>\n",
       "      <td>0.647989</td>\n",
       "      <td>0.652299</td>\n",
       "      <td>0.682471</td>\n",
       "      <td>0.659770</td>\n",
       "      <td>0.015592</td>\n",
       "      <td>0.652586</td>\n",
       "    </tr>\n",
       "    <tr>\n",
       "      <th>1</th>\n",
       "      <td>KNeighborsClassifier Undersampler</td>\n",
       "      <td>0.681034</td>\n",
       "      <td>0.663793</td>\n",
       "      <td>0.662356</td>\n",
       "      <td>0.673851</td>\n",
       "      <td>0.656609</td>\n",
       "      <td>0.667529</td>\n",
       "      <td>0.008744</td>\n",
       "      <td>0.649138</td>\n",
       "    </tr>\n",
       "  </tbody>\n",
       "</table>\n",
       "</div>"
      ],
      "text/plain": [
       "                                 Model         1         2         3  \\\n",
       "0      LogisticRegression Undersampler  0.724138  0.722701  0.691092   \n",
       "3  RandomForestClassifier Undersampler  0.689655  0.662356  0.639368   \n",
       "2  DecisionTreeClassifier Undersampler  0.673851  0.642241  0.647989   \n",
       "1    KNeighborsClassifier Undersampler  0.681034  0.663793  0.662356   \n",
       "\n",
       "          4         5   mean cv    std cv  recall score  \n",
       "0  0.721264  0.693966  0.710632  0.014837      0.706034  \n",
       "3  0.665230  0.668103  0.664943  0.016010      0.662069  \n",
       "2  0.652299  0.682471  0.659770  0.015592      0.652586  \n",
       "1  0.673851  0.656609  0.667529  0.008744      0.649138  "
      ]
     },
     "execution_count": 38,
     "metadata": {},
     "output_type": "execute_result"
    }
   ],
   "source": [
    "rus = RandomUnderSampler(random_state = 2020)\n",
    "\n",
    "pipe_logreg_under= Pipeline([('transformer', transformer_logreg),('rus', rus),('model',logreg)])\n",
    "pipe_knn_under= Pipeline([('transformer', transformer_knn),('rus', rus),('model', knn)])\n",
    "pipe_tree_under= Pipeline([('transformer', transformer),('rus', rus),('model', tree)])\n",
    "pipe_rf_under= Pipeline([('transformer', transformer),('rus', rus),('model', rf)])\n",
    "\n",
    "list_pipe_under= [pipe_logreg_under, pipe_knn_under, pipe_tree_under, pipe_rf_under]\n",
    "\n",
    "def model_evaluation_under(list_pipe, scoring):\n",
    "    skfold= StratifiedKFold(n_splits=5)\n",
    "    df= pd.DataFrame(columns= ['Model','1','2','3','4','5','mean cv','std cv'])\n",
    "    for i in list_pipe:\n",
    "        arr = cross_val_score(i, X_train, y_train, scoring= scoring,cv=skfold)\n",
    "        df = df.append({'Model':str(i[-1]).split('(')[0] + ' Undersampler', '1':arr[0], '2':arr[1], '3':arr[2], '4':arr[3], '5':arr[4], 'mean cv':arr.mean(),'std cv':arr.std()}, ignore_index=True)\n",
    "    return df\n",
    "\n",
    "def recall_under(list_pipe):\n",
    "    df= pd.DataFrame(columns= ['Model','recall score'])\n",
    "    for i in list_pipe:\n",
    "        i.fit(X_train, y_train)\n",
    "        pred= i.predict(X_test)\n",
    "        arr= recall_score(y_test, pred)\n",
    "        df= df.append({'Model': str(i[-1]).split('(')[0] + ' Undersampler', 'recall score': arr}, ignore_index= True)\n",
    "    return df\n",
    "\n",
    "model_score_under= model_evaluation_under(list_pipe_under, 'recall')\n",
    "recall_result_under= recall_under(list_pipe_under)\n",
    "\n",
    "model_score_under= model_score_under.merge(recall_result_under)\n",
    "model_score_under.sort_values('recall score', ascending= False)\n"
   ]
  },
  {
   "cell_type": "code",
   "execution_count": 39,
   "metadata": {},
   "outputs": [
    {
     "name": "stdout",
     "output_type": "stream",
     "text": [
      "              precision    recall  f1-score   support\n",
      "\n",
      "           0       0.95      0.73      0.82      9137\n",
      "           1       0.25      0.71      0.37      1160\n",
      "\n",
      "    accuracy                           0.72     10297\n",
      "   macro avg       0.60      0.72      0.59     10297\n",
      "weighted avg       0.87      0.72      0.77     10297\n",
      "\n"
     ]
    },
    {
     "data": {
      "text/plain": [
       "<sklearn.metrics._plot.precision_recall_curve.PrecisionRecallDisplay at 0x2ad8d233d00>"
      ]
     },
     "execution_count": 39,
     "metadata": {},
     "output_type": "execute_result"
    },
    {
     "data": {
      "image/png": "[encoded data removed]",
      "text/plain": [
       "<Figure size 432x288 with 1 Axes>"
      ]
     },
     "metadata": {
      "needs_background": "light"
     },
     "output_type": "display_data"
    }
   ],
   "source": [
    "pipe_logreg_under.fit(X_train,y_train)\n",
    "print(classification_report(y_test,pipe_logreg_under.predict(X_test)))\n",
    "plot_precision_recall_curve(pipe_logreg_under, X_test, y_test)"
   ]
  },
  {
   "cell_type": "code",
   "execution_count": 42,
   "metadata": {
    "scrolled": true
   },
   "outputs": [
    {
     "data": {
      "text/plain": [
       "array([[6634, 2503],\n",
       "       [ 341,  819]], dtype=int64)"
      ]
     },
     "execution_count": 42,
     "metadata": {},
     "output_type": "execute_result"
    }
   ],
   "source": [
    "pipe_logreg_under.fit(X_train,y_train)\n",
    "confusion_matrix(y_test,pipe_logreg_under.predict(X_test))"
   ]
  },
  {
   "cell_type": "code",
   "execution_count": 21,
   "metadata": {},
   "outputs": [
    {
     "data": {
      "text/html": [
       "<div>\n",
       "<style scoped>\n",
       "    .dataframe tbody tr th:only-of-type {\n",
       "        vertical-align: middle;\n",
       "    }\n",
       "\n",
       "    .dataframe tbody tr th {\n",
       "        vertical-align: top;\n",
       "    }\n",
       "\n",
       "    .dataframe thead th {\n",
       "        text-align: right;\n",
       "    }\n",
       "</style>\n",
       "<table border=\"1\" class=\"dataframe\">\n",
       "  <thead>\n",
       "    <tr style=\"text-align: right;\">\n",
       "      <th></th>\n",
       "      <th>Model</th>\n",
       "      <th>1</th>\n",
       "      <th>2</th>\n",
       "      <th>3</th>\n",
       "      <th>4</th>\n",
       "      <th>5</th>\n",
       "      <th>mean cv</th>\n",
       "      <th>std cv</th>\n",
       "      <th>recall score</th>\n",
       "    </tr>\n",
       "  </thead>\n",
       "  <tbody>\n",
       "    <tr>\n",
       "      <th>0</th>\n",
       "      <td>LogisticRegression NearMiss</td>\n",
       "      <td>0.795977</td>\n",
       "      <td>0.788793</td>\n",
       "      <td>0.745690</td>\n",
       "      <td>0.772989</td>\n",
       "      <td>0.734195</td>\n",
       "      <td>0.767529</td>\n",
       "      <td>0.023997</td>\n",
       "      <td>0.812931</td>\n",
       "    </tr>\n",
       "    <tr>\n",
       "      <th>3</th>\n",
       "      <td>RandomForestClassifier NearMiss</td>\n",
       "      <td>0.807471</td>\n",
       "      <td>0.770115</td>\n",
       "      <td>0.793103</td>\n",
       "      <td>0.778736</td>\n",
       "      <td>0.780172</td>\n",
       "      <td>0.785920</td>\n",
       "      <td>0.013042</td>\n",
       "      <td>0.794828</td>\n",
       "    </tr>\n",
       "    <tr>\n",
       "      <th>2</th>\n",
       "      <td>DecisionTreeClassifier NearMiss</td>\n",
       "      <td>0.774425</td>\n",
       "      <td>0.765805</td>\n",
       "      <td>0.768678</td>\n",
       "      <td>0.735632</td>\n",
       "      <td>0.750000</td>\n",
       "      <td>0.758908</td>\n",
       "      <td>0.014177</td>\n",
       "      <td>0.761207</td>\n",
       "    </tr>\n",
       "    <tr>\n",
       "      <th>1</th>\n",
       "      <td>KNeighborsClassifier NearMiss</td>\n",
       "      <td>0.655172</td>\n",
       "      <td>0.658046</td>\n",
       "      <td>0.622126</td>\n",
       "      <td>0.650862</td>\n",
       "      <td>0.637931</td>\n",
       "      <td>0.644828</td>\n",
       "      <td>0.013274</td>\n",
       "      <td>0.649138</td>\n",
       "    </tr>\n",
       "  </tbody>\n",
       "</table>\n",
       "</div>"
      ],
      "text/plain": [
       "                             Model         1         2         3         4  \\\n",
       "0      LogisticRegression NearMiss  0.795977  0.788793  0.745690  0.772989   \n",
       "3  RandomForestClassifier NearMiss  0.807471  0.770115  0.793103  0.778736   \n",
       "2  DecisionTreeClassifier NearMiss  0.774425  0.765805  0.768678  0.735632   \n",
       "1    KNeighborsClassifier NearMiss  0.655172  0.658046  0.622126  0.650862   \n",
       "\n",
       "          5   mean cv    std cv  recall score  \n",
       "0  0.734195  0.767529  0.023997      0.812931  \n",
       "3  0.780172  0.785920  0.013042      0.794828  \n",
       "2  0.750000  0.758908  0.014177      0.761207  \n",
       "1  0.637931  0.644828  0.013274      0.649138  "
      ]
     },
     "execution_count": 21,
     "metadata": {},
     "output_type": "execute_result"
    }
   ],
   "source": [
    "nm = NearMiss()\n",
    "\n",
    "pipe_logreg_nm= Pipeline([('transformer', transformer_logreg),('nm', nm),('model',logreg)])\n",
    "pipe_knn_nm= Pipeline([('transformer', transformer_knn),('nm', nm),('model', knn)])\n",
    "pipe_tree_nm= Pipeline([('transformer', transformer),('nm', nm),('model', tree)])\n",
    "pipe_rf_nm= Pipeline([('transformer', transformer),('nm', nm),('model', rf)])\n",
    "\n",
    "list_pipe_nm= [pipe_logreg_nm, pipe_knn_nm, pipe_tree_nm, pipe_rf_nm]\n",
    "\n",
    "def model_evaluation_nm(list_pipe, scoring):\n",
    "    skfold= StratifiedKFold(n_splits=5)\n",
    "    df= pd.DataFrame(columns= ['Model','1','2','3','4','5','mean cv','std cv'])\n",
    "    for i in list_pipe:\n",
    "        arr = cross_val_score(i, X_train, y_train, scoring= scoring,cv=skfold)\n",
    "        df = df.append({'Model':str(i[-1]).split('(')[0] + ' NearMiss', '1':arr[0], '2':arr[1], '3':arr[2], '4':arr[3], '5':arr[4], 'mean cv':arr.mean(),'std cv':arr.std()}, ignore_index=True)\n",
    "    return df\n",
    "\n",
    "def recall_nm(list_pipe):\n",
    "    df= pd.DataFrame(columns= ['Model','recall score'])\n",
    "    for i in list_pipe:\n",
    "        i.fit(X_train, y_train)\n",
    "        pred= i.predict(X_test)\n",
    "        arr= recall_score(y_test, pred)\n",
    "        df= df.append({'Model': str(i[-1]).split('(')[0] + ' NearMiss', 'recall score': arr}, ignore_index= True)\n",
    "    return df\n",
    "\n",
    "model_score_nm= model_evaluation_nm(list_pipe_nm, 'recall')\n",
    "recall_result_nm= recall_nm(list_pipe_nm)\n",
    "\n",
    "model_score_nm= model_score_nm.merge(recall_result_nm)\n",
    "model_score_nm.sort_values('recall score', ascending= False)\n"
   ]
  },
  {
   "cell_type": "code",
   "execution_count": 49,
   "metadata": {},
   "outputs": [
    {
     "name": "stdout",
     "output_type": "stream",
     "text": [
      "              precision    recall  f1-score   support\n",
      "\n",
      "           0       0.95      0.48      0.63      9137\n",
      "           1       0.16      0.81      0.27      1160\n",
      "\n",
      "    accuracy                           0.51     10297\n",
      "   macro avg       0.56      0.64      0.45     10297\n",
      "weighted avg       0.86      0.51      0.59     10297\n",
      "\n"
     ]
    },
    {
     "data": {
      "text/plain": [
       "<sklearn.metrics._plot.precision_recall_curve.PrecisionRecallDisplay at 0x2ad83d41940>"
      ]
     },
     "execution_count": 49,
     "metadata": {},
     "output_type": "execute_result"
    },
    {
     "data": {
      "image/png": "[encoded data removed]",
      "text/plain": [
       "<Figure size 432x288 with 1 Axes>"
      ]
     },
     "metadata": {
      "needs_background": "light"
     },
     "output_type": "display_data"
    }
   ],
   "source": [
    "pipe_logreg_nm.fit(X_train,y_train)\n",
    "print(classification_report(y_test,pipe_logreg_nm.predict(X_test)))\n",
    "plot_precision_recall_curve(pipe_logreg_nm, X_test, y_test)"
   ]
  },
  {
   "cell_type": "code",
   "execution_count": 50,
   "metadata": {},
   "outputs": [
    {
     "data": {
      "text/plain": [
       "array([[4341, 4796],\n",
       "       [ 217,  943]], dtype=int64)"
      ]
     },
     "execution_count": 50,
     "metadata": {},
     "output_type": "execute_result"
    }
   ],
   "source": [
    "pipe_logreg_nm.fit(X_train,y_train)\n",
    "confusion_matrix(y_test,pipe_logreg_nm.predict(X_test))"
   ]
  },
  {
   "cell_type": "code",
   "execution_count": 23,
   "metadata": {
    "scrolled": true
   },
   "outputs": [
    {
     "data": {
      "text/html": [
       "<div>\n",
       "<style scoped>\n",
       "    .dataframe tbody tr th:only-of-type {\n",
       "        vertical-align: middle;\n",
       "    }\n",
       "\n",
       "    .dataframe tbody tr th {\n",
       "        vertical-align: top;\n",
       "    }\n",
       "\n",
       "    .dataframe thead th {\n",
       "        text-align: right;\n",
       "    }\n",
       "</style>\n",
       "<table border=\"1\" class=\"dataframe\">\n",
       "  <thead>\n",
       "    <tr style=\"text-align: right;\">\n",
       "      <th></th>\n",
       "      <th>Model</th>\n",
       "      <th>1</th>\n",
       "      <th>2</th>\n",
       "      <th>3</th>\n",
       "      <th>4</th>\n",
       "      <th>5</th>\n",
       "      <th>mean cv</th>\n",
       "      <th>std cv</th>\n",
       "      <th>recall score</th>\n",
       "    </tr>\n",
       "  </thead>\n",
       "  <tbody>\n",
       "    <tr>\n",
       "      <th>0</th>\n",
       "      <td>LogisticRegression Oversampler</td>\n",
       "      <td>0.727011</td>\n",
       "      <td>0.725575</td>\n",
       "      <td>0.692529</td>\n",
       "      <td>0.722701</td>\n",
       "      <td>0.693966</td>\n",
       "      <td>0.712356</td>\n",
       "      <td>0.015671</td>\n",
       "      <td>0.706034</td>\n",
       "    </tr>\n",
       "    <tr>\n",
       "      <th>1</th>\n",
       "      <td>KNeighborsClassifier Oversampler</td>\n",
       "      <td>0.564655</td>\n",
       "      <td>0.554598</td>\n",
       "      <td>0.543103</td>\n",
       "      <td>0.528736</td>\n",
       "      <td>0.584770</td>\n",
       "      <td>0.555172</td>\n",
       "      <td>0.019031</td>\n",
       "      <td>0.544828</td>\n",
       "    </tr>\n",
       "    <tr>\n",
       "      <th>3</th>\n",
       "      <td>RandomForestClassifier Oversampler</td>\n",
       "      <td>0.393678</td>\n",
       "      <td>0.367816</td>\n",
       "      <td>0.377874</td>\n",
       "      <td>0.350575</td>\n",
       "      <td>0.389368</td>\n",
       "      <td>0.375862</td>\n",
       "      <td>0.015544</td>\n",
       "      <td>0.368966</td>\n",
       "    </tr>\n",
       "    <tr>\n",
       "      <th>2</th>\n",
       "      <td>DecisionTreeClassifier Oversampler</td>\n",
       "      <td>0.310345</td>\n",
       "      <td>0.323276</td>\n",
       "      <td>0.334770</td>\n",
       "      <td>0.318966</td>\n",
       "      <td>0.330460</td>\n",
       "      <td>0.323563</td>\n",
       "      <td>0.008592</td>\n",
       "      <td>0.318103</td>\n",
       "    </tr>\n",
       "  </tbody>\n",
       "</table>\n",
       "</div>"
      ],
      "text/plain": [
       "                                Model         1         2         3         4  \\\n",
       "0      LogisticRegression Oversampler  0.727011  0.725575  0.692529  0.722701   \n",
       "1    KNeighborsClassifier Oversampler  0.564655  0.554598  0.543103  0.528736   \n",
       "3  RandomForestClassifier Oversampler  0.393678  0.367816  0.377874  0.350575   \n",
       "2  DecisionTreeClassifier Oversampler  0.310345  0.323276  0.334770  0.318966   \n",
       "\n",
       "          5   mean cv    std cv  recall score  \n",
       "0  0.693966  0.712356  0.015671      0.706034  \n",
       "1  0.584770  0.555172  0.019031      0.544828  \n",
       "3  0.389368  0.375862  0.015544      0.368966  \n",
       "2  0.330460  0.323563  0.008592      0.318103  "
      ]
     },
     "execution_count": 23,
     "metadata": {},
     "output_type": "execute_result"
    }
   ],
   "source": [
    "ros = RandomOverSampler(random_state = 2020)\n",
    "\n",
    "pipe_logreg_over= Pipeline([('transformer', transformer_logreg),('ros', ros),('model',logreg)])\n",
    "pipe_knn_over= Pipeline([('transformer', transformer_knn),('ros', ros),('model', knn)])\n",
    "pipe_tree_over= Pipeline([('transformer', transformer),('ros', ros),('model', tree)])\n",
    "pipe_rf_over= Pipeline([('transformer', transformer),('ros', ros),('model', rf)])\n",
    "\n",
    "list_pipe_over= [pipe_logreg_over, pipe_knn_over, pipe_tree_over, pipe_rf_over]\n",
    "\n",
    "def model_evaluation_over(list_pipe, scoring):\n",
    "    skfold= StratifiedKFold(n_splits=5)\n",
    "    df= pd.DataFrame(columns= ['Model','1','2','3','4','5','mean cv','std cv'])\n",
    "    for i in list_pipe:\n",
    "        arr = cross_val_score(i, X_train, y_train, scoring= scoring,cv=skfold)\n",
    "        df = df.append({'Model':str(i[-1]).split('(')[0] + ' Oversampler', '1':arr[0], '2':arr[1], '3':arr[2], '4':arr[3], '5':arr[4], 'mean cv':arr.mean(),'std cv':arr.std()}, ignore_index=True)\n",
    "    return df\n",
    "\n",
    "def recall_over(list_pipe):\n",
    "    df= pd.DataFrame(columns= ['Model','recall score'])\n",
    "    for i in list_pipe:\n",
    "        i.fit(X_train, y_train)\n",
    "        pred= i.predict(X_test)\n",
    "        arr= recall_score(y_test, pred)\n",
    "        df= df.append({'Model': str(i[-1]).split('(')[0] + ' Oversampler', 'recall score': arr}, ignore_index= True)\n",
    "    return df\n",
    "\n",
    "model_score_over= model_evaluation_over(list_pipe_over, 'recall')\n",
    "recall_result_over= recall_over(list_pipe_over)\n",
    "\n",
    "model_score_over= model_score_over.merge(recall_result_over)\n",
    "model_score_over.sort_values('recall score', ascending= False)\n"
   ]
  },
  {
   "cell_type": "code",
   "execution_count": 24,
   "metadata": {
    "scrolled": false
   },
   "outputs": [
    {
     "name": "stdout",
     "output_type": "stream",
     "text": [
      "              precision    recall  f1-score   support\n",
      "\n",
      "           0       0.95      0.73      0.82      9137\n",
      "           1       0.25      0.71      0.37      1160\n",
      "\n",
      "    accuracy                           0.72     10297\n",
      "   macro avg       0.60      0.72      0.59     10297\n",
      "weighted avg       0.87      0.72      0.77     10297\n",
      "\n"
     ]
    },
    {
     "data": {
      "text/plain": [
       "<sklearn.metrics._plot.precision_recall_curve.PrecisionRecallDisplay at 0x2ad8b98ee80>"
      ]
     },
     "execution_count": 24,
     "metadata": {},
     "output_type": "execute_result"
    },
    {
     "data": {
      "image/png": "[encoded data removed]",
      "text/plain": [
       "<Figure size 432x288 with 1 Axes>"
      ]
     },
     "metadata": {
      "needs_background": "light"
     },
     "output_type": "display_data"
    }
   ],
   "source": [
    "pipe_logreg_over.fit(X_train,y_train)\n",
    "print(classification_report(y_test,pipe_logreg_over.predict(X_test)))\n",
    "plot_precision_recall_curve(pipe_logreg_over, X_test, y_test)"
   ]
  },
  {
   "cell_type": "code",
   "execution_count": 44,
   "metadata": {},
   "outputs": [
    {
     "data": {
      "text/plain": [
       "array([[6632, 2505],\n",
       "       [ 341,  819]], dtype=int64)"
      ]
     },
     "execution_count": 44,
     "metadata": {},
     "output_type": "execute_result"
    }
   ],
   "source": [
    "pipe_logreg_over.fit(X_train,y_train)\n",
    "confusion_matrix(y_test,pipe_logreg_over.predict(X_test))"
   ]
  },
  {
   "cell_type": "code",
   "execution_count": 28,
   "metadata": {},
   "outputs": [
    {
     "data": {
      "text/html": [
       "<div>\n",
       "<style scoped>\n",
       "    .dataframe tbody tr th:only-of-type {\n",
       "        vertical-align: middle;\n",
       "    }\n",
       "\n",
       "    .dataframe tbody tr th {\n",
       "        vertical-align: top;\n",
       "    }\n",
       "\n",
       "    .dataframe thead th {\n",
       "        text-align: right;\n",
       "    }\n",
       "</style>\n",
       "<table border=\"1\" class=\"dataframe\">\n",
       "  <thead>\n",
       "    <tr style=\"text-align: right;\">\n",
       "      <th></th>\n",
       "      <th>Model</th>\n",
       "      <th>1</th>\n",
       "      <th>2</th>\n",
       "      <th>3</th>\n",
       "      <th>4</th>\n",
       "      <th>5</th>\n",
       "      <th>mean cv</th>\n",
       "      <th>std cv</th>\n",
       "      <th>recall score</th>\n",
       "    </tr>\n",
       "  </thead>\n",
       "  <tbody>\n",
       "    <tr>\n",
       "      <th>0</th>\n",
       "      <td>LogisticRegression SMOTE</td>\n",
       "      <td>0.724138</td>\n",
       "      <td>0.721264</td>\n",
       "      <td>0.691092</td>\n",
       "      <td>0.718391</td>\n",
       "      <td>0.692529</td>\n",
       "      <td>0.709483</td>\n",
       "      <td>0.014551</td>\n",
       "      <td>0.706034</td>\n",
       "    </tr>\n",
       "    <tr>\n",
       "      <th>1</th>\n",
       "      <td>KNeighborsClassifier SMOTE</td>\n",
       "      <td>0.597701</td>\n",
       "      <td>0.593391</td>\n",
       "      <td>0.581897</td>\n",
       "      <td>0.557471</td>\n",
       "      <td>0.614943</td>\n",
       "      <td>0.589080</td>\n",
       "      <td>0.019039</td>\n",
       "      <td>0.575862</td>\n",
       "    </tr>\n",
       "    <tr>\n",
       "      <th>2</th>\n",
       "      <td>DecisionTreeClassifier SMOTE</td>\n",
       "      <td>0.353448</td>\n",
       "      <td>0.318966</td>\n",
       "      <td>0.339080</td>\n",
       "      <td>0.333333</td>\n",
       "      <td>0.340517</td>\n",
       "      <td>0.337069</td>\n",
       "      <td>0.011188</td>\n",
       "      <td>0.342241</td>\n",
       "    </tr>\n",
       "    <tr>\n",
       "      <th>3</th>\n",
       "      <td>RandomForestClassifier SMOTE</td>\n",
       "      <td>0.344828</td>\n",
       "      <td>0.304598</td>\n",
       "      <td>0.323276</td>\n",
       "      <td>0.300287</td>\n",
       "      <td>0.326149</td>\n",
       "      <td>0.319828</td>\n",
       "      <td>0.016066</td>\n",
       "      <td>0.325000</td>\n",
       "    </tr>\n",
       "  </tbody>\n",
       "</table>\n",
       "</div>"
      ],
      "text/plain": [
       "                          Model         1         2         3         4  \\\n",
       "0      LogisticRegression SMOTE  0.724138  0.721264  0.691092  0.718391   \n",
       "1    KNeighborsClassifier SMOTE  0.597701  0.593391  0.581897  0.557471   \n",
       "2  DecisionTreeClassifier SMOTE  0.353448  0.318966  0.339080  0.333333   \n",
       "3  RandomForestClassifier SMOTE  0.344828  0.304598  0.323276  0.300287   \n",
       "\n",
       "          5   mean cv    std cv  recall score  \n",
       "0  0.692529  0.709483  0.014551      0.706034  \n",
       "1  0.614943  0.589080  0.019039      0.575862  \n",
       "2  0.340517  0.337069  0.011188      0.342241  \n",
       "3  0.326149  0.319828  0.016066      0.325000  "
      ]
     },
     "execution_count": 28,
     "metadata": {},
     "output_type": "execute_result"
    }
   ],
   "source": [
    "smote = SMOTE(random_state = 2020)\n",
    "\n",
    "pipe_logreg_smote= Pipeline([('transformer', transformer_logreg),('smote', smote),('model',logreg)])\n",
    "pipe_knn_smote= Pipeline([('transformer', transformer_knn),('smote', smote),('model', knn)])\n",
    "pipe_tree_smote= Pipeline([('transformer', transformer),('smote', smote),('model', tree)])\n",
    "pipe_rf_smote= Pipeline([('transformer', transformer),('smote', smote),('model', rf)])\n",
    "\n",
    "list_pipe_smote= [pipe_logreg_smote, pipe_knn_smote, pipe_tree_smote, pipe_rf_smote]\n",
    "\n",
    "def model_evaluation_smote(list_pipe, scoring):\n",
    "    skfold= StratifiedKFold(n_splits=5)\n",
    "    df= pd.DataFrame(columns= ['Model','1','2','3','4','5','mean cv','std cv'])\n",
    "    for i in list_pipe:\n",
    "        arr = cross_val_score(i, X_train, y_train, scoring= scoring,cv=skfold)\n",
    "        df = df.append({'Model':str(i[-1]).split('(')[0] + ' SMOTE', '1':arr[0], '2':arr[1], '3':arr[2], '4':arr[3], '5':arr[4], 'mean cv':arr.mean(),'std cv':arr.std()}, ignore_index=True)\n",
    "    return df\n",
    "\n",
    "def recall_smote(list_pipe):\n",
    "    df= pd.DataFrame(columns= ['Model','recall score'])\n",
    "    for i in list_pipe:\n",
    "        i.fit(X_train, y_train)\n",
    "        pred= i.predict(X_test)\n",
    "        arr= recall_score(y_test, pred)\n",
    "        df= df.append({'Model': str(i[-1]).split('(')[0] + ' SMOTE', 'recall score': arr}, ignore_index= True)\n",
    "    return df\n",
    "\n",
    "model_score_smote= model_evaluation_smote(list_pipe_smote, 'recall')\n",
    "recall_result_smote= recall_smote(list_pipe_smote)\n",
    "\n",
    "model_score_smote= model_score_smote.merge(recall_result_smote)\n",
    "model_score_smote.sort_values('recall score', ascending= False)\n"
   ]
  },
  {
   "cell_type": "code",
   "execution_count": 29,
   "metadata": {},
   "outputs": [
    {
     "name": "stdout",
     "output_type": "stream",
     "text": [
      "              precision    recall  f1-score   support\n",
      "\n",
      "           0       0.95      0.73      0.82      9137\n",
      "           1       0.25      0.71      0.37      1160\n",
      "\n",
      "    accuracy                           0.72     10297\n",
      "   macro avg       0.60      0.72      0.59     10297\n",
      "weighted avg       0.87      0.72      0.77     10297\n",
      "\n"
     ]
    },
    {
     "data": {
      "text/plain": [
       "<sklearn.metrics._plot.precision_recall_curve.PrecisionRecallDisplay at 0x2ad8d4d4d30>"
      ]
     },
     "execution_count": 29,
     "metadata": {},
     "output_type": "execute_result"
    },
    {
     "data": {
      "image/png": "[encoded data removed]",
      "text/plain": [
       "<Figure size 432x288 with 1 Axes>"
      ]
     },
     "metadata": {
      "needs_background": "light"
     },
     "output_type": "display_data"
    }
   ],
   "source": [
    "pipe_logreg_smote.fit(X_train,y_train)\n",
    "print(classification_report(y_test,pipe_logreg_smote.predict(X_test)))\n",
    "plot_precision_recall_curve(pipe_logreg_smote, X_test, y_test)"
   ]
  },
  {
   "cell_type": "code",
   "execution_count": 46,
   "metadata": {},
   "outputs": [
    {
     "data": {
      "text/plain": [
       "array([[6640, 2497],\n",
       "       [ 341,  819]], dtype=int64)"
      ]
     },
     "execution_count": 46,
     "metadata": {},
     "output_type": "execute_result"
    }
   ],
   "source": [
    "pipe_logreg_smote.fit(X_train,y_train)\n",
    "confusion_matrix(y_test,pipe_logreg_smote.predict(X_test))"
   ]
  },
  {
   "cell_type": "markdown",
   "metadata": {},
   "source": [
    "Dari perbandingan kedua metode, yang terbaik adalah **Logistic Regression menggunakan Random Under Sampler**"
   ]
  },
  {
   "cell_type": "markdown",
   "metadata": {},
   "source": [
    "# Hyperparameter Tuning"
   ]
  },
  {
   "cell_type": "code",
   "execution_count": 51,
   "metadata": {},
   "outputs": [],
   "source": [
    "estimator= Pipeline([\n",
    "    ('transformer', transformer_logreg),\n",
    "    ('rus', rus),\n",
    "    ('model', logreg)\n",
    "])\n",
    "\n",
    "hyperparam_space= {\n",
    "    'model__random_state': [2020],\n",
    "    'transformer__poly__degree': [i for i in range (1,3)],\n",
    "    'model__C': [10000,1000,100, 10, 0.01, 0.001, 0.0001,0.00001],\n",
    "    'model__solver': ['newton-cg', 'lbfgs','sag', 'saga'],\n",
    "    'model__max_iter': [100,200,300,400,500]\n",
    "}\n",
    "\n",
    "grid= GridSearchCV(\n",
    "    estimator,\n",
    "    param_grid = hyperparam_space,\n",
    "    cv = StratifiedKFold(n_splits = 5),\n",
    "    scoring = 'recall',\n",
    "    n_jobs= -1\n",
    ")"
   ]
  },
  {
   "cell_type": "code",
   "execution_count": 52,
   "metadata": {},
   "outputs": [
    {
     "name": "stdout",
     "output_type": "stream",
     "text": [
      "best score 0.7123563218390804\n",
      "best param {'model__C': 0.0001, 'model__max_iter': 100, 'model__random_state': 2020, 'model__solver': 'newton-cg', 'transformer__poly__degree': 1}\n"
     ]
    }
   ],
   "source": [
    "grid.fit(X_train, y_train)\n",
    "\n",
    "print('best score', grid.best_score_)\n",
    "print('best param', grid.best_params_)"
   ]
  },
  {
   "cell_type": "markdown",
   "metadata": {},
   "source": [
    "# Before vs After Tuning"
   ]
  },
  {
   "cell_type": "code",
   "execution_count": 53,
   "metadata": {},
   "outputs": [
    {
     "name": "stdout",
     "output_type": "stream",
     "text": [
      "Recall Score before tuning= 0.7060344827586207\n",
      "\n",
      "              precision    recall  f1-score   support\n",
      "\n",
      "           0       0.95      0.73      0.82      9137\n",
      "           1       0.25      0.71      0.37      1160\n",
      "\n",
      "    accuracy                           0.72     10297\n",
      "   macro avg       0.60      0.72      0.59     10297\n",
      "weighted avg       0.87      0.72      0.77     10297\n",
      "\n"
     ]
    }
   ],
   "source": [
    "pipe_logreg_under.fit(X_train,y_train)\n",
    "print(f'Recall Score before tuning= {recall_score(y_test,pipe_logreg_under.predict(X_test))}' + '\\n')\n",
    "print(classification_report(y_test,pipe_logreg_under.predict(X_test)))"
   ]
  },
  {
   "cell_type": "code",
   "execution_count": 54,
   "metadata": {},
   "outputs": [
    {
     "name": "stdout",
     "output_type": "stream",
     "text": [
      "Recall Score before tuning= 0.7086206896551724\n",
      "\n",
      "              precision    recall  f1-score   support\n",
      "\n",
      "           0       0.95      0.72      0.82      9137\n",
      "           1       0.24      0.71      0.36      1160\n",
      "\n",
      "    accuracy                           0.72     10297\n",
      "   macro avg       0.60      0.72      0.59     10297\n",
      "weighted avg       0.87      0.72      0.77     10297\n",
      "\n"
     ]
    }
   ],
   "source": [
    "grid.best_estimator_.fit(X_train,y_train)\n",
    "print(f'Recall Score before tuning= {recall_score(y_test,grid.best_estimator_.predict(X_test))}' + '\\n')\n",
    "print(classification_report(y_test,grid.best_estimator_.predict(X_test)))"
   ]
  },
  {
   "cell_type": "code",
   "execution_count": 55,
   "metadata": {},
   "outputs": [
    {
     "name": "stdout",
     "output_type": "stream",
     "text": [
      "Recall Score after tuning= 0.7086206896551724\n",
      "\n",
      "              precision    recall  f1-score   support\n",
      "\n",
      "           0       0.95      0.72      0.82      9137\n",
      "           1       0.24      0.71      0.36      1160\n",
      "\n",
      "    accuracy                           0.72     10297\n",
      "   macro avg       0.60      0.72      0.59     10297\n",
      "weighted avg       0.87      0.72      0.77     10297\n",
      "\n"
     ]
    }
   ],
   "source": [
    "logreg_tune= LogisticRegression(C= 0.0001, max_iter= 100, random_state= 2020, solver= 'newton-cg')\n",
    "\n",
    "transformer_logreg_tune= ColumnTransformer([\n",
    "    ('onehot', OneHotEncoder(drop= 'first'),['marital','default','housing','loan','contact','poutcome']),\n",
    "    ('binary', ce.BinaryEncoder(),['job','month','day_of_week']),\n",
    "    ('ordinal', ordinal_encoder,['education'])\n",
    "    ],remainder= 'passthrough')\n",
    "\n",
    "pipe_logreg_under_tune= Pipeline([('transformer', transformer_logreg_tune),('rus', rus),('model', logreg_tune)])\n",
    "\n",
    "pipe_logreg_under_tune.fit(X_train,y_train)\n",
    "print(f'Recall Score after tuning= {recall_score(y_test,pipe_logreg_under_tune.predict(X_test))}' + '\\n')\n",
    "print(classification_report(y_test,pipe_logreg_under_tune.predict(X_test)))"
   ]
  },
  {
   "cell_type": "markdown",
   "metadata": {},
   "source": [
    "# Feature Selection"
   ]
  },
  {
   "cell_type": "code",
   "execution_count": 56,
   "metadata": {},
   "outputs": [
    {
     "data": {
      "text/plain": [
       "Pipeline(steps=[('transformer',\n",
       "                 ColumnTransformer(transformers=[('onehot',\n",
       "                                                  OneHotEncoder(drop='first'),\n",
       "                                                  ['marital', 'default',\n",
       "                                                   'housing', 'loan', 'contact',\n",
       "                                                   'poutcome']),\n",
       "                                                 ('binary', BinaryEncoder(),\n",
       "                                                  ['job', 'month',\n",
       "                                                   'day_of_week']),\n",
       "                                                 ('ordinal',\n",
       "                                                  OrdinalEncoder(mapping=[{'col': 'education',\n",
       "                                                                           'mapping': {'basic.4y': 1,\n",
       "                                                                                       'basic.6y': 2,\n",
       "                                                                                       'basic.9y': 3,\n",
       "                                                                                       'high.school': 4,\n",
       "                                                                                       'illiterate...\n",
       "                                                                                       'professional.course': 6,\n",
       "                                                                                       'university.degree': 5,\n",
       "                                                                                       'unknown': 7}}]),\n",
       "                                                  ['education']),\n",
       "                                                 ('poly',\n",
       "                                                  PolynomialFeatures(degree=1),\n",
       "                                                  ['age', 'campaign', 'pdays',\n",
       "                                                   'previous', 'emp.var.rate',\n",
       "                                                   'cons.price.idx',\n",
       "                                                   'cons.conf.idx', 'euribor3m',\n",
       "                                                   'nr.employed'])])),\n",
       "                ('rus', RandomUnderSampler(random_state=2020)),\n",
       "                ('model',\n",
       "                 LogisticRegression(C=0.0001, random_state=2020,\n",
       "                                    solver='newton-cg'))])"
      ]
     },
     "execution_count": 56,
     "metadata": {},
     "output_type": "execute_result"
    }
   ],
   "source": [
    "grid.best_estimator_"
   ]
  },
  {
   "cell_type": "code",
   "execution_count": 57,
   "metadata": {
    "scrolled": true
   },
   "outputs": [
    {
     "data": {
      "text/plain": [
       "array(['x0_married', 'x0_single', 'x0_unknown', 'x1_unknown', 'x1_yes',\n",
       "       'x2_unknown', 'x2_yes', 'x3_unknown', 'x3_yes', 'x4_telephone',\n",
       "       'x5_nonexistent', 'x5_success'], dtype=object)"
      ]
     },
     "execution_count": 57,
     "metadata": {},
     "output_type": "execute_result"
    }
   ],
   "source": [
    "grid.best_estimator_[0].transformers_[0][1].get_feature_names()"
   ]
  },
  {
   "cell_type": "code",
   "execution_count": 58,
   "metadata": {
    "scrolled": false
   },
   "outputs": [
    {
     "data": {
      "text/plain": [
       "['job_0',\n",
       " 'job_1',\n",
       " 'job_2',\n",
       " 'job_3',\n",
       " 'job_4',\n",
       " 'month_0',\n",
       " 'month_1',\n",
       " 'month_2',\n",
       " 'month_3',\n",
       " 'month_4',\n",
       " 'day_of_week_0',\n",
       " 'day_of_week_1',\n",
       " 'day_of_week_2',\n",
       " 'day_of_week_3']"
      ]
     },
     "execution_count": 58,
     "metadata": {},
     "output_type": "execute_result"
    }
   ],
   "source": [
    "grid.best_estimator_[0].transformers_[1][1].get_feature_names()"
   ]
  },
  {
   "cell_type": "code",
   "execution_count": 59,
   "metadata": {},
   "outputs": [
    {
     "data": {
      "text/plain": [
       "['education']"
      ]
     },
     "execution_count": 59,
     "metadata": {},
     "output_type": "execute_result"
    }
   ],
   "source": [
    "grid.best_estimator_[0].transformers_[2][1].get_feature_names()"
   ]
  },
  {
   "cell_type": "code",
   "execution_count": 60,
   "metadata": {},
   "outputs": [
    {
     "data": {
      "text/plain": [
       "['1', 'x0', 'x1', 'x2', 'x3', 'x4', 'x5', 'x6', 'x7', 'x8']"
      ]
     },
     "execution_count": 60,
     "metadata": {},
     "output_type": "execute_result"
    }
   ],
   "source": [
    "grid.best_estimator_[0].transformers_[3][1].get_feature_names()"
   ]
  },
  {
   "cell_type": "code",
   "execution_count": 61,
   "metadata": {},
   "outputs": [],
   "source": [
    "features= list(grid.best_estimator_[0].transformers_[0][1].get_feature_names())+grid.best_estimator_[0].transformers_[1][1].get_feature_names()+grid.best_estimator_[0].transformers_[2][1].get_feature_names()+grid.best_estimator_[0].transformers_[3][1].get_feature_names()"
   ]
  },
  {
   "cell_type": "code",
   "execution_count": 62,
   "metadata": {},
   "outputs": [],
   "source": [
    "coef_tab= pd.DataFrame({'index' : features, 'coef': grid.best_estimator_[2].coef_.flatten()}).set_index('index').sort_values('coef', ascending= False)"
   ]
  },
  {
   "cell_type": "code",
   "execution_count": 63,
   "metadata": {
    "scrolled": false
   },
   "outputs": [
    {
     "data": {
      "text/html": [
       "<div>\n",
       "<style scoped>\n",
       "    .dataframe tbody tr th:only-of-type {\n",
       "        vertical-align: middle;\n",
       "    }\n",
       "\n",
       "    .dataframe tbody tr th {\n",
       "        vertical-align: top;\n",
       "    }\n",
       "\n",
       "    .dataframe thead th {\n",
       "        text-align: right;\n",
       "    }\n",
       "</style>\n",
       "<table border=\"1\" class=\"dataframe\">\n",
       "  <thead>\n",
       "    <tr style=\"text-align: right;\">\n",
       "      <th></th>\n",
       "      <th>coef</th>\n",
       "    </tr>\n",
       "    <tr>\n",
       "      <th>index</th>\n",
       "      <th></th>\n",
       "    </tr>\n",
       "  </thead>\n",
       "  <tbody>\n",
       "    <tr>\n",
       "      <th>x2</th>\n",
       "      <td>0.035681</td>\n",
       "    </tr>\n",
       "    <tr>\n",
       "      <th>month_3</th>\n",
       "      <td>0.020583</td>\n",
       "    </tr>\n",
       "    <tr>\n",
       "      <th>x6</th>\n",
       "      <td>0.019826</td>\n",
       "    </tr>\n",
       "    <tr>\n",
       "      <th>month_4</th>\n",
       "      <td>0.011678</td>\n",
       "    </tr>\n",
       "    <tr>\n",
       "      <th>education</th>\n",
       "      <td>0.011010</td>\n",
       "    </tr>\n",
       "    <tr>\n",
       "      <th>x5_success</th>\n",
       "      <td>0.007893</td>\n",
       "    </tr>\n",
       "    <tr>\n",
       "      <th>month_1</th>\n",
       "      <td>0.006361</td>\n",
       "    </tr>\n",
       "    <tr>\n",
       "      <th>x0_single</th>\n",
       "      <td>0.003530</td>\n",
       "    </tr>\n",
       "    <tr>\n",
       "      <th>x0</th>\n",
       "      <td>0.002554</td>\n",
       "    </tr>\n",
       "    <tr>\n",
       "      <th>x5_nonexistent</th>\n",
       "      <td>0.001549</td>\n",
       "    </tr>\n",
       "    <tr>\n",
       "      <th>x3</th>\n",
       "      <td>0.001541</td>\n",
       "    </tr>\n",
       "    <tr>\n",
       "      <th>x3_yes</th>\n",
       "      <td>0.000324</td>\n",
       "    </tr>\n",
       "    <tr>\n",
       "      <th>x0_unknown</th>\n",
       "      <td>0.000266</td>\n",
       "    </tr>\n",
       "    <tr>\n",
       "      <th>job_3</th>\n",
       "      <td>0.000264</td>\n",
       "    </tr>\n",
       "    <tr>\n",
       "      <th>job_1</th>\n",
       "      <td>0.000096</td>\n",
       "    </tr>\n",
       "    <tr>\n",
       "      <th>1</th>\n",
       "      <td>0.000002</td>\n",
       "    </tr>\n",
       "    <tr>\n",
       "      <th>day_of_week_0</th>\n",
       "      <td>0.000000</td>\n",
       "    </tr>\n",
       "    <tr>\n",
       "      <th>x1_yes</th>\n",
       "      <td>0.000000</td>\n",
       "    </tr>\n",
       "    <tr>\n",
       "      <th>month_0</th>\n",
       "      <td>0.000000</td>\n",
       "    </tr>\n",
       "    <tr>\n",
       "      <th>job_0</th>\n",
       "      <td>0.000000</td>\n",
       "    </tr>\n",
       "    <tr>\n",
       "      <th>x2_unknown</th>\n",
       "      <td>-0.000088</td>\n",
       "    </tr>\n",
       "    <tr>\n",
       "      <th>x3_unknown</th>\n",
       "      <td>-0.000088</td>\n",
       "    </tr>\n",
       "    <tr>\n",
       "      <th>x2_yes</th>\n",
       "      <td>-0.000718</td>\n",
       "    </tr>\n",
       "    <tr>\n",
       "      <th>day_of_week_2</th>\n",
       "      <td>-0.000747</td>\n",
       "    </tr>\n",
       "    <tr>\n",
       "      <th>job_4</th>\n",
       "      <td>-0.001632</td>\n",
       "    </tr>\n",
       "    <tr>\n",
       "      <th>job_2</th>\n",
       "      <td>-0.001815</td>\n",
       "    </tr>\n",
       "    <tr>\n",
       "      <th>x5</th>\n",
       "      <td>-0.002107</td>\n",
       "    </tr>\n",
       "    <tr>\n",
       "      <th>x0_married</th>\n",
       "      <td>-0.002170</td>\n",
       "    </tr>\n",
       "    <tr>\n",
       "      <th>day_of_week_1</th>\n",
       "      <td>-0.002529</td>\n",
       "    </tr>\n",
       "    <tr>\n",
       "      <th>x7</th>\n",
       "      <td>-0.002531</td>\n",
       "    </tr>\n",
       "    <tr>\n",
       "      <th>day_of_week_3</th>\n",
       "      <td>-0.003724</td>\n",
       "    </tr>\n",
       "    <tr>\n",
       "      <th>x1_unknown</th>\n",
       "      <td>-0.006635</td>\n",
       "    </tr>\n",
       "    <tr>\n",
       "      <th>x4</th>\n",
       "      <td>-0.008805</td>\n",
       "    </tr>\n",
       "    <tr>\n",
       "      <th>x8</th>\n",
       "      <td>-0.011988</td>\n",
       "    </tr>\n",
       "    <tr>\n",
       "      <th>x4_telephone</th>\n",
       "      <td>-0.012123</td>\n",
       "    </tr>\n",
       "    <tr>\n",
       "      <th>month_2</th>\n",
       "      <td>-0.020145</td>\n",
       "    </tr>\n",
       "    <tr>\n",
       "      <th>x1</th>\n",
       "      <td>-0.020615</td>\n",
       "    </tr>\n",
       "  </tbody>\n",
       "</table>\n",
       "</div>"
      ],
      "text/plain": [
       "                    coef\n",
       "index                   \n",
       "x2              0.035681\n",
       "month_3         0.020583\n",
       "x6              0.019826\n",
       "month_4         0.011678\n",
       "education       0.011010\n",
       "x5_success      0.007893\n",
       "month_1         0.006361\n",
       "x0_single       0.003530\n",
       "x0              0.002554\n",
       "x5_nonexistent  0.001549\n",
       "x3              0.001541\n",
       "x3_yes          0.000324\n",
       "x0_unknown      0.000266\n",
       "job_3           0.000264\n",
       "job_1           0.000096\n",
       "1               0.000002\n",
       "day_of_week_0   0.000000\n",
       "x1_yes          0.000000\n",
       "month_0         0.000000\n",
       "job_0           0.000000\n",
       "x2_unknown     -0.000088\n",
       "x3_unknown     -0.000088\n",
       "x2_yes         -0.000718\n",
       "day_of_week_2  -0.000747\n",
       "job_4          -0.001632\n",
       "job_2          -0.001815\n",
       "x5             -0.002107\n",
       "x0_married     -0.002170\n",
       "day_of_week_1  -0.002529\n",
       "x7             -0.002531\n",
       "day_of_week_3  -0.003724\n",
       "x1_unknown     -0.006635\n",
       "x4             -0.008805\n",
       "x8             -0.011988\n",
       "x4_telephone   -0.012123\n",
       "month_2        -0.020145\n",
       "x1             -0.020615"
      ]
     },
     "execution_count": 63,
     "metadata": {},
     "output_type": "execute_result"
    }
   ],
   "source": [
    "coef_tab"
   ]
  },
  {
   "cell_type": "code",
   "execution_count": 64,
   "metadata": {
    "scrolled": false
   },
   "outputs": [
    {
     "data": {
      "text/plain": [
       "<AxesSubplot:ylabel='index'>"
      ]
     },
     "execution_count": 64,
     "metadata": {},
     "output_type": "execute_result"
    },
    {
     "data": {
      "image/png": "[encoded data removed]",
      "text/plain": [
       "<Figure size 1440x2880 with 1 Axes>"
      ]
     },
     "metadata": {
      "needs_background": "light"
     },
     "output_type": "display_data"
    }
   ],
   "source": [
    "coef_tab.plot(kind= 'barh',figsize=(20,40))"
   ]
  },
  {
   "cell_type": "markdown",
   "metadata": {},
   "source": [
    "drop 'age','education','marital','default','housing','day_of_week','month','job','loan','contact','poutcome' **(semua category feature + age)**"
   ]
  },
  {
   "cell_type": "code",
   "execution_count": 80,
   "metadata": {},
   "outputs": [],
   "source": [
    "data1= data.copy()\n",
    "data1= data1.drop(['education','poutcome','housing','loan','contact','age','default','marital','job','month','day_of_week','campaign'], axis= 1)"
   ]
  },
  {
   "cell_type": "code",
   "execution_count": 81,
   "metadata": {},
   "outputs": [
    {
     "data": {
      "text/html": [
       "<div>\n",
       "<style scoped>\n",
       "    .dataframe tbody tr th:only-of-type {\n",
       "        vertical-align: middle;\n",
       "    }\n",
       "\n",
       "    .dataframe tbody tr th {\n",
       "        vertical-align: top;\n",
       "    }\n",
       "\n",
       "    .dataframe thead th {\n",
       "        text-align: right;\n",
       "    }\n",
       "</style>\n",
       "<table border=\"1\" class=\"dataframe\">\n",
       "  <thead>\n",
       "    <tr style=\"text-align: right;\">\n",
       "      <th></th>\n",
       "      <th>pdays</th>\n",
       "      <th>previous</th>\n",
       "      <th>emp.var.rate</th>\n",
       "      <th>cons.price.idx</th>\n",
       "      <th>cons.conf.idx</th>\n",
       "      <th>euribor3m</th>\n",
       "      <th>nr.employed</th>\n",
       "      <th>y</th>\n",
       "    </tr>\n",
       "  </thead>\n",
       "  <tbody>\n",
       "    <tr>\n",
       "      <th>0</th>\n",
       "      <td>0</td>\n",
       "      <td>0</td>\n",
       "      <td>1.1</td>\n",
       "      <td>93.994</td>\n",
       "      <td>-36.4</td>\n",
       "      <td>4.857</td>\n",
       "      <td>5191.0</td>\n",
       "      <td>no</td>\n",
       "    </tr>\n",
       "    <tr>\n",
       "      <th>1</th>\n",
       "      <td>0</td>\n",
       "      <td>0</td>\n",
       "      <td>1.1</td>\n",
       "      <td>93.994</td>\n",
       "      <td>-36.4</td>\n",
       "      <td>4.857</td>\n",
       "      <td>5191.0</td>\n",
       "      <td>no</td>\n",
       "    </tr>\n",
       "    <tr>\n",
       "      <th>2</th>\n",
       "      <td>0</td>\n",
       "      <td>0</td>\n",
       "      <td>1.1</td>\n",
       "      <td>93.994</td>\n",
       "      <td>-36.4</td>\n",
       "      <td>4.857</td>\n",
       "      <td>5191.0</td>\n",
       "      <td>no</td>\n",
       "    </tr>\n",
       "    <tr>\n",
       "      <th>3</th>\n",
       "      <td>0</td>\n",
       "      <td>0</td>\n",
       "      <td>1.1</td>\n",
       "      <td>93.994</td>\n",
       "      <td>-36.4</td>\n",
       "      <td>4.857</td>\n",
       "      <td>5191.0</td>\n",
       "      <td>no</td>\n",
       "    </tr>\n",
       "    <tr>\n",
       "      <th>4</th>\n",
       "      <td>0</td>\n",
       "      <td>0</td>\n",
       "      <td>1.1</td>\n",
       "      <td>93.994</td>\n",
       "      <td>-36.4</td>\n",
       "      <td>4.857</td>\n",
       "      <td>5191.0</td>\n",
       "      <td>no</td>\n",
       "    </tr>\n",
       "  </tbody>\n",
       "</table>\n",
       "</div>"
      ],
      "text/plain": [
       "   pdays  previous  emp.var.rate  cons.price.idx  cons.conf.idx  euribor3m  \\\n",
       "0      0         0           1.1          93.994          -36.4      4.857   \n",
       "1      0         0           1.1          93.994          -36.4      4.857   \n",
       "2      0         0           1.1          93.994          -36.4      4.857   \n",
       "3      0         0           1.1          93.994          -36.4      4.857   \n",
       "4      0         0           1.1          93.994          -36.4      4.857   \n",
       "\n",
       "   nr.employed   y  \n",
       "0       5191.0  no  \n",
       "1       5191.0  no  \n",
       "2       5191.0  no  \n",
       "3       5191.0  no  \n",
       "4       5191.0  no  "
      ]
     },
     "execution_count": 81,
     "metadata": {},
     "output_type": "execute_result"
    }
   ],
   "source": [
    "data1.head()"
   ]
  },
  {
   "cell_type": "code",
   "execution_count": 82,
   "metadata": {},
   "outputs": [],
   "source": [
    "data1['pdays']= data1['pdays'].replace(999,0)"
   ]
  },
  {
   "cell_type": "code",
   "execution_count": 83,
   "metadata": {},
   "outputs": [],
   "source": [
    "X_s= data1.drop(['y'], axis= 1)\n",
    "y_s= np.where(data1['y']== 'no',0,1)"
   ]
  },
  {
   "cell_type": "code",
   "execution_count": 84,
   "metadata": {},
   "outputs": [],
   "source": [
    "X_trains,X_tests,y_trains,y_tests= train_test_split(\n",
    "    X_s,y_s, \n",
    "    stratify= y_s, \n",
    "    test_size= 0.25,\n",
    "    random_state= 2020)"
   ]
  },
  {
   "cell_type": "code",
   "execution_count": 85,
   "metadata": {},
   "outputs": [
    {
     "data": {
      "text/html": [
       "<div>\n",
       "<style scoped>\n",
       "    .dataframe tbody tr th:only-of-type {\n",
       "        vertical-align: middle;\n",
       "    }\n",
       "\n",
       "    .dataframe tbody tr th {\n",
       "        vertical-align: top;\n",
       "    }\n",
       "\n",
       "    .dataframe thead th {\n",
       "        text-align: right;\n",
       "    }\n",
       "</style>\n",
       "<table border=\"1\" class=\"dataframe\">\n",
       "  <thead>\n",
       "    <tr style=\"text-align: right;\">\n",
       "      <th></th>\n",
       "      <th>pdays</th>\n",
       "      <th>previous</th>\n",
       "      <th>emp.var.rate</th>\n",
       "      <th>cons.price.idx</th>\n",
       "      <th>cons.conf.idx</th>\n",
       "      <th>euribor3m</th>\n",
       "      <th>nr.employed</th>\n",
       "    </tr>\n",
       "  </thead>\n",
       "  <tbody>\n",
       "    <tr>\n",
       "      <th>35620</th>\n",
       "      <td>2</td>\n",
       "      <td>1</td>\n",
       "      <td>-1.8</td>\n",
       "      <td>92.893</td>\n",
       "      <td>-46.2</td>\n",
       "      <td>1.244</td>\n",
       "      <td>5099.1</td>\n",
       "    </tr>\n",
       "    <tr>\n",
       "      <th>16603</th>\n",
       "      <td>0</td>\n",
       "      <td>0</td>\n",
       "      <td>1.4</td>\n",
       "      <td>93.918</td>\n",
       "      <td>-42.7</td>\n",
       "      <td>4.963</td>\n",
       "      <td>5228.1</td>\n",
       "    </tr>\n",
       "    <tr>\n",
       "      <th>37973</th>\n",
       "      <td>0</td>\n",
       "      <td>0</td>\n",
       "      <td>-3.4</td>\n",
       "      <td>92.379</td>\n",
       "      <td>-29.8</td>\n",
       "      <td>0.797</td>\n",
       "      <td>5017.5</td>\n",
       "    </tr>\n",
       "    <tr>\n",
       "      <th>28520</th>\n",
       "      <td>0</td>\n",
       "      <td>0</td>\n",
       "      <td>-1.8</td>\n",
       "      <td>93.075</td>\n",
       "      <td>-47.1</td>\n",
       "      <td>1.423</td>\n",
       "      <td>5099.1</td>\n",
       "    </tr>\n",
       "    <tr>\n",
       "      <th>28415</th>\n",
       "      <td>0</td>\n",
       "      <td>1</td>\n",
       "      <td>-1.8</td>\n",
       "      <td>93.075</td>\n",
       "      <td>-47.1</td>\n",
       "      <td>1.435</td>\n",
       "      <td>5099.1</td>\n",
       "    </tr>\n",
       "    <tr>\n",
       "      <th>...</th>\n",
       "      <td>...</td>\n",
       "      <td>...</td>\n",
       "      <td>...</td>\n",
       "      <td>...</td>\n",
       "      <td>...</td>\n",
       "      <td>...</td>\n",
       "      <td>...</td>\n",
       "    </tr>\n",
       "    <tr>\n",
       "      <th>143</th>\n",
       "      <td>0</td>\n",
       "      <td>0</td>\n",
       "      <td>1.1</td>\n",
       "      <td>93.994</td>\n",
       "      <td>-36.4</td>\n",
       "      <td>4.857</td>\n",
       "      <td>5191.0</td>\n",
       "    </tr>\n",
       "    <tr>\n",
       "      <th>21590</th>\n",
       "      <td>0</td>\n",
       "      <td>0</td>\n",
       "      <td>1.4</td>\n",
       "      <td>93.444</td>\n",
       "      <td>-36.1</td>\n",
       "      <td>4.963</td>\n",
       "      <td>5228.1</td>\n",
       "    </tr>\n",
       "    <tr>\n",
       "      <th>40111</th>\n",
       "      <td>0</td>\n",
       "      <td>0</td>\n",
       "      <td>-1.7</td>\n",
       "      <td>94.215</td>\n",
       "      <td>-40.3</td>\n",
       "      <td>0.827</td>\n",
       "      <td>4991.6</td>\n",
       "    </tr>\n",
       "    <tr>\n",
       "      <th>41149</th>\n",
       "      <td>0</td>\n",
       "      <td>0</td>\n",
       "      <td>-1.1</td>\n",
       "      <td>94.767</td>\n",
       "      <td>-50.8</td>\n",
       "      <td>1.039</td>\n",
       "      <td>4963.6</td>\n",
       "    </tr>\n",
       "    <tr>\n",
       "      <th>35527</th>\n",
       "      <td>0</td>\n",
       "      <td>0</td>\n",
       "      <td>-1.8</td>\n",
       "      <td>92.893</td>\n",
       "      <td>-46.2</td>\n",
       "      <td>1.244</td>\n",
       "      <td>5099.1</td>\n",
       "    </tr>\n",
       "  </tbody>\n",
       "</table>\n",
       "<p>10297 rows × 7 columns</p>\n",
       "</div>"
      ],
      "text/plain": [
       "       pdays  previous  emp.var.rate  cons.price.idx  cons.conf.idx  \\\n",
       "35620      2         1          -1.8          92.893          -46.2   \n",
       "16603      0         0           1.4          93.918          -42.7   \n",
       "37973      0         0          -3.4          92.379          -29.8   \n",
       "28520      0         0          -1.8          93.075          -47.1   \n",
       "28415      0         1          -1.8          93.075          -47.1   \n",
       "...      ...       ...           ...             ...            ...   \n",
       "143        0         0           1.1          93.994          -36.4   \n",
       "21590      0         0           1.4          93.444          -36.1   \n",
       "40111      0         0          -1.7          94.215          -40.3   \n",
       "41149      0         0          -1.1          94.767          -50.8   \n",
       "35527      0         0          -1.8          92.893          -46.2   \n",
       "\n",
       "       euribor3m  nr.employed  \n",
       "35620      1.244       5099.1  \n",
       "16603      4.963       5228.1  \n",
       "37973      0.797       5017.5  \n",
       "28520      1.423       5099.1  \n",
       "28415      1.435       5099.1  \n",
       "...          ...          ...  \n",
       "143        4.857       5191.0  \n",
       "21590      4.963       5228.1  \n",
       "40111      0.827       4991.6  \n",
       "41149      1.039       4963.6  \n",
       "35527      1.244       5099.1  \n",
       "\n",
       "[10297 rows x 7 columns]"
      ]
     },
     "execution_count": 85,
     "metadata": {},
     "output_type": "execute_result"
    }
   ],
   "source": [
    "X_tests"
   ]
  },
  {
   "cell_type": "code",
   "execution_count": 86,
   "metadata": {
    "scrolled": true
   },
   "outputs": [
    {
     "data": {
      "text/plain": [
       "((41188, 7), (41188,))"
      ]
     },
     "execution_count": 86,
     "metadata": {},
     "output_type": "execute_result"
    }
   ],
   "source": [
    "X_s.shape, y_s.shape"
   ]
  },
  {
   "cell_type": "code",
   "execution_count": 87,
   "metadata": {},
   "outputs": [
    {
     "name": "stdout",
     "output_type": "stream",
     "text": [
      "Recall Score after tuning= 0.7086206896551724\n",
      "\n",
      "              precision    recall  f1-score   support\n",
      "\n",
      "           0       0.95      0.72      0.82      9137\n",
      "           1       0.24      0.71      0.36      1160\n",
      "\n",
      "    accuracy                           0.72     10297\n",
      "   macro avg       0.60      0.72      0.59     10297\n",
      "weighted avg       0.87      0.72      0.77     10297\n",
      "\n"
     ]
    }
   ],
   "source": [
    "logreg_tune_selected= LogisticRegression(C= 0.0001, max_iter= 100, random_state= 2020, solver= 'newton-cg')\n",
    "\n",
    "pipe_logreg_under_tune_selected= Pipeline([('rus', rus),('model', logreg_tune_selected)])\n",
    "\n",
    "pipe_logreg_under_tune_selected.fit(X_trains,y_trains)\n",
    "print(f'Recall Score after tuning= {recall_score(y_tests,pipe_logreg_under_tune_selected.predict(X_tests))}' + '\\n')\n",
    "print(classification_report(y_tests,pipe_logreg_under_tune_selected.predict(X_tests)))"
   ]
  },
  {
   "cell_type": "markdown",
   "metadata": {},
   "source": [
    "Score sebelum di Feature Selection 0.7086206896551724"
   ]
  },
  {
   "cell_type": "code",
   "execution_count": 88,
   "metadata": {},
   "outputs": [
    {
     "data": {
      "text/plain": [
       "array([ 0.03626567,  0.00175462, -0.00887688, -0.00263567,  0.02083467,\n",
       "       -0.00244299, -0.01214196])"
      ]
     },
     "execution_count": 88,
     "metadata": {},
     "output_type": "execute_result"
    }
   ],
   "source": [
    "pipe_logreg_under_tune_selected[1].coef_.flatten()"
   ]
  },
  {
   "cell_type": "code",
   "execution_count": 89,
   "metadata": {},
   "outputs": [
    {
     "data": {
      "text/plain": [
       "Index(['pdays', 'previous', 'emp.var.rate', 'cons.price.idx', 'cons.conf.idx',\n",
       "       'euribor3m', 'nr.employed', 'y'],\n",
       "      dtype='object')"
      ]
     },
     "execution_count": 89,
     "metadata": {},
     "output_type": "execute_result"
    }
   ],
   "source": [
    "data1.columns"
   ]
  },
  {
   "cell_type": "code",
   "execution_count": 90,
   "metadata": {},
   "outputs": [],
   "source": [
    "features_selected= data1.columns.drop('y')\n",
    "coef_tab_selected= pd.DataFrame({'index' : features_selected, 'coef': pipe_logreg_under_tune_selected[1].coef_.flatten()}).set_index('index').sort_values('coef', ascending= False)"
   ]
  },
  {
   "cell_type": "code",
   "execution_count": 91,
   "metadata": {},
   "outputs": [
    {
     "data": {
      "text/html": [
       "<div>\n",
       "<style scoped>\n",
       "    .dataframe tbody tr th:only-of-type {\n",
       "        vertical-align: middle;\n",
       "    }\n",
       "\n",
       "    .dataframe tbody tr th {\n",
       "        vertical-align: top;\n",
       "    }\n",
       "\n",
       "    .dataframe thead th {\n",
       "        text-align: right;\n",
       "    }\n",
       "</style>\n",
       "<table border=\"1\" class=\"dataframe\">\n",
       "  <thead>\n",
       "    <tr style=\"text-align: right;\">\n",
       "      <th></th>\n",
       "      <th>coef</th>\n",
       "    </tr>\n",
       "    <tr>\n",
       "      <th>index</th>\n",
       "      <th></th>\n",
       "    </tr>\n",
       "  </thead>\n",
       "  <tbody>\n",
       "    <tr>\n",
       "      <th>pdays</th>\n",
       "      <td>0.036266</td>\n",
       "    </tr>\n",
       "    <tr>\n",
       "      <th>cons.conf.idx</th>\n",
       "      <td>0.020835</td>\n",
       "    </tr>\n",
       "    <tr>\n",
       "      <th>previous</th>\n",
       "      <td>0.001755</td>\n",
       "    </tr>\n",
       "    <tr>\n",
       "      <th>euribor3m</th>\n",
       "      <td>-0.002443</td>\n",
       "    </tr>\n",
       "    <tr>\n",
       "      <th>cons.price.idx</th>\n",
       "      <td>-0.002636</td>\n",
       "    </tr>\n",
       "    <tr>\n",
       "      <th>emp.var.rate</th>\n",
       "      <td>-0.008877</td>\n",
       "    </tr>\n",
       "    <tr>\n",
       "      <th>nr.employed</th>\n",
       "      <td>-0.012142</td>\n",
       "    </tr>\n",
       "  </tbody>\n",
       "</table>\n",
       "</div>"
      ],
      "text/plain": [
       "                    coef\n",
       "index                   \n",
       "pdays           0.036266\n",
       "cons.conf.idx   0.020835\n",
       "previous        0.001755\n",
       "euribor3m      -0.002443\n",
       "cons.price.idx -0.002636\n",
       "emp.var.rate   -0.008877\n",
       "nr.employed    -0.012142"
      ]
     },
     "execution_count": 91,
     "metadata": {},
     "output_type": "execute_result"
    }
   ],
   "source": [
    "coef_tab_selected"
   ]
  },
  {
   "cell_type": "code",
   "execution_count": 92,
   "metadata": {},
   "outputs": [
    {
     "data": {
      "text/plain": [
       "<AxesSubplot:ylabel='index'>"
      ]
     },
     "execution_count": 92,
     "metadata": {},
     "output_type": "execute_result"
    },
    {
     "data": {
      "image/png": "[encoded data removed]",
      "text/plain": [
       "<Figure size 720x1440 with 1 Axes>"
      ]
     },
     "metadata": {
      "needs_background": "light"
     },
     "output_type": "display_data"
    }
   ],
   "source": [
    "coef_tab_selected.plot(kind= 'barh',figsize=(10,20))"
   ]
  },
  {
   "cell_type": "markdown",
   "metadata": {},
   "source": [
    "# Before vs After Selection"
   ]
  },
  {
   "cell_type": "code",
   "execution_count": 104,
   "metadata": {},
   "outputs": [
    {
     "name": "stdout",
     "output_type": "stream",
     "text": [
      "Recall Score after tuning= 0.7086206896551724\n",
      "\n",
      "              precision    recall  f1-score   support\n",
      "\n",
      "           0       0.95      0.72      0.82      9137\n",
      "           1       0.24      0.71      0.36      1160\n",
      "\n",
      "    accuracy                           0.72     10297\n",
      "   macro avg       0.60      0.72      0.59     10297\n",
      "weighted avg       0.87      0.72      0.77     10297\n",
      "\n",
      "It lasted for 0.716 sec\n",
      "train set feature 19\n",
      "(30891, 19) (30891,)\n"
     ]
    }
   ],
   "source": [
    "start = time.time()\n",
    "pipe_logreg_under_tune.fit(X_train,y_train)\n",
    "print(f'Recall Score after tuning= {recall_score(y_test,pipe_logreg_under_tune.predict(X_test))}' + '\\n')\n",
    "print(classification_report(y_test,pipe_logreg_under_tune.predict(X_test)))\n",
    "end = time.time()\n",
    "print(f'It lasted for {round(end - start, 3)} sec')\n",
    "print(f'train set feature {X_train.shape[1]}')\n",
    "print(X_train.shape,y_train.shape)"
   ]
  },
  {
   "cell_type": "code",
   "execution_count": 105,
   "metadata": {},
   "outputs": [
    {
     "name": "stdout",
     "output_type": "stream",
     "text": [
      "Recall Score after tuning= 0.7086206896551724\n",
      "\n",
      "              precision    recall  f1-score   support\n",
      "\n",
      "           0       0.95      0.72      0.82      9137\n",
      "           1       0.24      0.71      0.36      1160\n",
      "\n",
      "    accuracy                           0.72     10297\n",
      "   macro avg       0.60      0.72      0.59     10297\n",
      "weighted avg       0.87      0.72      0.77     10297\n",
      "\n",
      "It lasted for 0.419 sec\n",
      "train set feature 7\n",
      "(30891, 7) (30891,)\n"
     ]
    }
   ],
   "source": [
    "start = time.time()\n",
    "pipe_logreg_under_tune_selected.fit(X_trains,y_trains)\n",
    "print(f'Recall Score after tuning= {recall_score(y_tests,pipe_logreg_under_tune_selected.predict(X_tests))}' + '\\n')\n",
    "print(classification_report(y_tests,pipe_logreg_under_tune_selected.predict(X_tests)))\n",
    "end = time.time()\n",
    "print(f'It lasted for {round(end - start, 3)} sec')\n",
    "print(f'train set feature {X_trains.shape[1]}')\n",
    "print(X_trains.shape,y_trains.shape)"
   ]
  },
  {
   "cell_type": "markdown",
   "metadata": {},
   "source": [
    "# "
   ]
  },
  {
   "cell_type": "markdown",
   "metadata": {},
   "source": [
    "# Saving & Testing Model"
   ]
  },
  {
   "cell_type": "code",
   "execution_count": 106,
   "metadata": {},
   "outputs": [],
   "source": [
    "import pickle"
   ]
  },
  {
   "cell_type": "code",
   "execution_count": 107,
   "metadata": {},
   "outputs": [],
   "source": [
    "pipe_logreg_under_tune_selected.fit(X_s,y_s) #Final Model, fit ke X dan y (dengan feature yang sudah di select) untuk memaksimalkan jumlah data yang dipelajari oleh model\n",
    "\n",
    "file_name= 'Final Project.sav'\n",
    "pickle.dump(pipe_logreg_under_tune_selected, open(file_name,'wb'))"
   ]
  },
  {
   "cell_type": "code",
   "execution_count": 108,
   "metadata": {},
   "outputs": [],
   "source": [
    "loaded_model= pickle.load(open(file_name, 'rb'))"
   ]
  },
  {
   "cell_type": "code",
   "execution_count": 109,
   "metadata": {},
   "outputs": [
    {
     "data": {
      "text/plain": [
       "array([1, 0, 1, ..., 1, 1, 1])"
      ]
     },
     "execution_count": 109,
     "metadata": {},
     "output_type": "execute_result"
    }
   ],
   "source": [
    "loaded_model.predict(X_tests)"
   ]
  },
  {
   "cell_type": "code",
   "execution_count": 110,
   "metadata": {},
   "outputs": [
    {
     "data": {
      "text/html": [
       "<div>\n",
       "<style scoped>\n",
       "    .dataframe tbody tr th:only-of-type {\n",
       "        vertical-align: middle;\n",
       "    }\n",
       "\n",
       "    .dataframe tbody tr th {\n",
       "        vertical-align: top;\n",
       "    }\n",
       "\n",
       "    .dataframe thead th {\n",
       "        text-align: right;\n",
       "    }\n",
       "</style>\n",
       "<table border=\"1\" class=\"dataframe\">\n",
       "  <thead>\n",
       "    <tr style=\"text-align: right;\">\n",
       "      <th></th>\n",
       "      <th>pdays</th>\n",
       "      <th>previous</th>\n",
       "      <th>emp.var.rate</th>\n",
       "      <th>cons.price.idx</th>\n",
       "      <th>cons.conf.idx</th>\n",
       "      <th>euribor3m</th>\n",
       "      <th>nr.employed</th>\n",
       "    </tr>\n",
       "  </thead>\n",
       "  <tbody>\n",
       "    <tr>\n",
       "      <th>count</th>\n",
       "      <td>41188.000000</td>\n",
       "      <td>41188.000000</td>\n",
       "      <td>41188.000000</td>\n",
       "      <td>41188.000000</td>\n",
       "      <td>41188.000000</td>\n",
       "      <td>41188.000000</td>\n",
       "      <td>41188.000000</td>\n",
       "    </tr>\n",
       "    <tr>\n",
       "      <th>mean</th>\n",
       "      <td>0.221229</td>\n",
       "      <td>0.172963</td>\n",
       "      <td>0.081886</td>\n",
       "      <td>93.575664</td>\n",
       "      <td>-40.502600</td>\n",
       "      <td>3.621291</td>\n",
       "      <td>5167.035911</td>\n",
       "    </tr>\n",
       "    <tr>\n",
       "      <th>std</th>\n",
       "      <td>1.348874</td>\n",
       "      <td>0.494901</td>\n",
       "      <td>1.570960</td>\n",
       "      <td>0.578840</td>\n",
       "      <td>4.628198</td>\n",
       "      <td>1.734447</td>\n",
       "      <td>72.251528</td>\n",
       "    </tr>\n",
       "    <tr>\n",
       "      <th>min</th>\n",
       "      <td>0.000000</td>\n",
       "      <td>0.000000</td>\n",
       "      <td>-3.400000</td>\n",
       "      <td>92.201000</td>\n",
       "      <td>-50.800000</td>\n",
       "      <td>0.634000</td>\n",
       "      <td>4963.600000</td>\n",
       "    </tr>\n",
       "    <tr>\n",
       "      <th>25%</th>\n",
       "      <td>0.000000</td>\n",
       "      <td>0.000000</td>\n",
       "      <td>-1.800000</td>\n",
       "      <td>93.075000</td>\n",
       "      <td>-42.700000</td>\n",
       "      <td>1.344000</td>\n",
       "      <td>5099.100000</td>\n",
       "    </tr>\n",
       "    <tr>\n",
       "      <th>50%</th>\n",
       "      <td>0.000000</td>\n",
       "      <td>0.000000</td>\n",
       "      <td>1.100000</td>\n",
       "      <td>93.749000</td>\n",
       "      <td>-41.800000</td>\n",
       "      <td>4.857000</td>\n",
       "      <td>5191.000000</td>\n",
       "    </tr>\n",
       "    <tr>\n",
       "      <th>75%</th>\n",
       "      <td>0.000000</td>\n",
       "      <td>0.000000</td>\n",
       "      <td>1.400000</td>\n",
       "      <td>93.994000</td>\n",
       "      <td>-36.400000</td>\n",
       "      <td>4.961000</td>\n",
       "      <td>5228.100000</td>\n",
       "    </tr>\n",
       "    <tr>\n",
       "      <th>max</th>\n",
       "      <td>27.000000</td>\n",
       "      <td>7.000000</td>\n",
       "      <td>1.400000</td>\n",
       "      <td>94.767000</td>\n",
       "      <td>-26.900000</td>\n",
       "      <td>5.045000</td>\n",
       "      <td>5228.100000</td>\n",
       "    </tr>\n",
       "  </tbody>\n",
       "</table>\n",
       "</div>"
      ],
      "text/plain": [
       "              pdays      previous  emp.var.rate  cons.price.idx  \\\n",
       "count  41188.000000  41188.000000  41188.000000    41188.000000   \n",
       "mean       0.221229      0.172963      0.081886       93.575664   \n",
       "std        1.348874      0.494901      1.570960        0.578840   \n",
       "min        0.000000      0.000000     -3.400000       92.201000   \n",
       "25%        0.000000      0.000000     -1.800000       93.075000   \n",
       "50%        0.000000      0.000000      1.100000       93.749000   \n",
       "75%        0.000000      0.000000      1.400000       93.994000   \n",
       "max       27.000000      7.000000      1.400000       94.767000   \n",
       "\n",
       "       cons.conf.idx     euribor3m   nr.employed  \n",
       "count   41188.000000  41188.000000  41188.000000  \n",
       "mean      -40.502600      3.621291   5167.035911  \n",
       "std         4.628198      1.734447     72.251528  \n",
       "min       -50.800000      0.634000   4963.600000  \n",
       "25%       -42.700000      1.344000   5099.100000  \n",
       "50%       -41.800000      4.857000   5191.000000  \n",
       "75%       -36.400000      4.961000   5228.100000  \n",
       "max       -26.900000      5.045000   5228.100000  "
      ]
     },
     "execution_count": 110,
     "metadata": {},
     "output_type": "execute_result"
    }
   ],
   "source": [
    "data1.describe()"
   ]
  },
  {
   "cell_type": "code",
   "execution_count": 115,
   "metadata": {},
   "outputs": [],
   "source": [
    "df_predict= pd.DataFrame({\n",
    "    'pdays': [13],\n",
    "    'previous': [4],\n",
    "    'emp.var.rate': [0.5],\n",
    "    'cons.price.idx': [93],\n",
    "    'cons.conf.idx': [-30],\n",
    "    'euribor3m': [2.85],\n",
    "    'nr.employed': [5150]\n",
    "})"
   ]
  },
  {
   "cell_type": "code",
   "execution_count": 116,
   "metadata": {},
   "outputs": [
    {
     "data": {
      "text/html": [
       "<div>\n",
       "<style scoped>\n",
       "    .dataframe tbody tr th:only-of-type {\n",
       "        vertical-align: middle;\n",
       "    }\n",
       "\n",
       "    .dataframe tbody tr th {\n",
       "        vertical-align: top;\n",
       "    }\n",
       "\n",
       "    .dataframe thead th {\n",
       "        text-align: right;\n",
       "    }\n",
       "</style>\n",
       "<table border=\"1\" class=\"dataframe\">\n",
       "  <thead>\n",
       "    <tr style=\"text-align: right;\">\n",
       "      <th></th>\n",
       "      <th>pdays</th>\n",
       "      <th>previous</th>\n",
       "      <th>emp.var.rate</th>\n",
       "      <th>cons.price.idx</th>\n",
       "      <th>cons.conf.idx</th>\n",
       "      <th>euribor3m</th>\n",
       "      <th>nr.employed</th>\n",
       "    </tr>\n",
       "  </thead>\n",
       "  <tbody>\n",
       "    <tr>\n",
       "      <th>0</th>\n",
       "      <td>13</td>\n",
       "      <td>4</td>\n",
       "      <td>0.5</td>\n",
       "      <td>93</td>\n",
       "      <td>-30</td>\n",
       "      <td>2.85</td>\n",
       "      <td>5150</td>\n",
       "    </tr>\n",
       "  </tbody>\n",
       "</table>\n",
       "</div>"
      ],
      "text/plain": [
       "   pdays  previous  emp.var.rate  cons.price.idx  cons.conf.idx  euribor3m  \\\n",
       "0     13         4           0.5              93            -30       2.85   \n",
       "\n",
       "   nr.employed  \n",
       "0         5150  "
      ]
     },
     "execution_count": 116,
     "metadata": {},
     "output_type": "execute_result"
    }
   ],
   "source": [
    "df_predict"
   ]
  },
  {
   "cell_type": "code",
   "execution_count": 117,
   "metadata": {},
   "outputs": [
    {
     "data": {
      "text/plain": [
       "array([1])"
      ]
     },
     "execution_count": 117,
     "metadata": {},
     "output_type": "execute_result"
    }
   ],
   "source": [
    "loaded_model.predict(df_predict)"
   ]
  },
  {
   "cell_type": "code",
   "execution_count": 118,
   "metadata": {},
   "outputs": [
    {
     "data": {
      "text/plain": [
       "array([[0.34184202, 0.65815798]])"
      ]
     },
     "execution_count": 118,
     "metadata": {},
     "output_type": "execute_result"
    }
   ],
   "source": [
    "loaded_model.predict_proba(df_predict)"
   ]
  },
  {
   "cell_type": "code",
   "execution_count": null,
   "metadata": {},
   "outputs": [],
   "source": []
  }
 ],
 "metadata": {
  "kernelspec": {
   "display_name": "Python 3",
   "language": "python",
   "name": "python3"
  },
  "language_info": {
   "codemirror_mode": {
    "name": "ipython",
    "version": 3
   },
   "file_extension": ".py",
   "mimetype": "text/x-python",
   "name": "python",
   "nbconvert_exporter": "python",
   "pygments_lexer": "ipython3",
   "version": "3.8.5"
  }
 },
 "nbformat": 4,
 "nbformat_minor": 4
}
